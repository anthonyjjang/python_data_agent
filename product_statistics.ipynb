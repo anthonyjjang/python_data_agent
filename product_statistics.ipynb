{
 "cells": [
  {
   "cell_type": "markdown",
   "metadata": {},
   "source": [
    "# 상품코드별 통계 분석\n",
    "\n",
    "ENTR_BY_INS.csv 파일의 상품코드별 통계를 생성하고 MVNO_PRD_PLC.csv의 요금제 정보와 병합하여 분석합니다.\n"
   ]
  },
  {
   "cell_type": "code",
   "execution_count": 22,
   "metadata": {},
   "outputs": [
    {
     "name": "stdout",
     "output_type": "stream",
     "text": [
      "📊 상품코드별 통계 분석 프로그램\n",
      "============================================================\n"
     ]
    }
   ],
   "source": [
    "# 필요한 라이브러리 import\n",
    "import pandas as pd\n",
    "import numpy as np\n",
    "import matplotlib.pyplot as plt\n",
    "import seaborn as sns\n",
    "import plotly.express as px\n",
    "import plotly.graph_objects as go\n",
    "from plotly.subplots import make_subplots\n",
    "import warnings\n",
    "warnings.filterwarnings('ignore')\n",
    "\n",
    "# 한글 폰트 설정\n",
    "plt.rcParams['font.family'] = 'DejaVu Sans'\n",
    "plt.rcParams['axes.unicode_minus'] = False\n",
    "\n",
    "print(\"📊 상품코드별 통계 분석 프로그램\")\n",
    "print(\"=\" * 60)\n"
   ]
  },
  {
   "cell_type": "code",
   "execution_count": 23,
   "metadata": {},
   "outputs": [
    {
     "name": "stdout",
     "output_type": "stream",
     "text": [
      "📁 데이터 로드 중...\n",
      "✅ ENTR_BY_INS.csv 로드 완료: 270,192행 × 111열\n",
      "✅ MVNO_PRD_PLC.csv 로드 완료: 138행 × 9열\n",
      "\n",
      "📋 데이터 로드 완료!\n"
     ]
    }
   ],
   "source": [
    "# 데이터 로드\n",
    "print(\"📁 데이터 로드 중...\")\n",
    "\n",
    "# ENTR_BY_INS.csv 로드 (M-2 정산내역)\n",
    "try:\n",
    "    df_entr = pd.read_csv('csv/ENTR_BY_INS.csv', encoding='cp949')\n",
    "    print(f\"✅ ENTR_BY_INS.csv 로드 완료: {df_entr.shape[0]:,}행 × {df_entr.shape[1]}열\")\n",
    "except Exception as e:\n",
    "    print(f\"❌ ENTR_BY_INS.csv 로드 실패: {e}\")\n",
    "\n",
    "# MVNO_PRD_PLC.csv 로드 (요금제 정보)\n",
    "try:\n",
    "    df_plan = pd.read_csv('csv/MVNO_PRD_PLC.csv', encoding='utf-8')\n",
    "    print(f\"✅ MVNO_PRD_PLC.csv 로드 완료: {df_plan.shape[0]:,}행 × {df_plan.shape[1]}열\")\n",
    "except Exception as e:\n",
    "    print(f\"❌ MVNO_PRD_PLC.csv 로드 실패: {e}\")\n",
    "\n",
    "print(f\"\\n📋 데이터 로드 완료!\")\n"
   ]
  },
  {
   "cell_type": "code",
   "execution_count": 24,
   "metadata": {},
   "outputs": [
    {
     "name": "stdout",
     "output_type": "stream",
     "text": [
      "📊 데이터 기본 정보\n",
      "==================================================\n",
      "\n",
      "🔍 ENTR_BY_INS.csv (정산내역):\n",
      "  - 총 행 수: 270,192\n",
      "  - 총 열 수: 111\n",
      "  - 메모리 사용량: 462.30 MB\n",
      "\n",
      "🔍 MVNO_PRD_PLC.csv (요금제 정보):\n",
      "  - 총 행 수: 138\n",
      "  - 총 열 수: 9\n",
      "  - 메모리 사용량: 0.04 MB\n",
      "\n",
      "📋 상품코드 관련 컬럼:\n",
      "  - ENTR_BY_INS: ['MVNO상품코드', 'MVNO상품명', '마켓코드', '가입대리점코드', '실판매점코드', '정산상품코드', '정산상품명', '83.데이터선구매상품명']\n",
      "  - MVNO_PRD_PLC: ['요금제코드', '요금제명']\n"
     ]
    }
   ],
   "source": [
    "# 데이터 기본 정보 확인\n",
    "print(\"📊 데이터 기본 정보\")\n",
    "print(\"=\" * 50)\n",
    "\n",
    "print(f\"\\n🔍 ENTR_BY_INS.csv (정산내역):\")\n",
    "print(f\"  - 총 행 수: {df_entr.shape[0]:,}\")\n",
    "print(f\"  - 총 열 수: {df_entr.shape[1]}\")\n",
    "print(f\"  - 메모리 사용량: {df_entr.memory_usage(deep=True).sum() / 1024**2:.2f} MB\")\n",
    "\n",
    "print(f\"\\n🔍 MVNO_PRD_PLC.csv (요금제 정보):\")\n",
    "print(f\"  - 총 행 수: {df_plan.shape[0]:,}\")\n",
    "print(f\"  - 총 열 수: {df_plan.shape[1]}\")\n",
    "print(f\"  - 메모리 사용량: {df_plan.memory_usage(deep=True).sum() / 1024**2:.2f} MB\")\n",
    "\n",
    "# 상품코드 관련 컬럼 확인\n",
    "print(f\"\\n📋 상품코드 관련 컬럼:\")\n",
    "entr_product_cols = [col for col in df_entr.columns if '상품' in col or '코드' in col]\n",
    "print(f\"  - ENTR_BY_INS: {entr_product_cols}\")\n",
    "\n",
    "plan_product_cols = [col for col in df_plan.columns if '상품' in col or '코드' in col or '요금제' in col]\n",
    "print(f\"  - MVNO_PRD_PLC: {plan_product_cols}\")\n"
   ]
  },
  {
   "cell_type": "code",
   "execution_count": 25,
   "metadata": {},
   "outputs": [
    {
     "name": "stdout",
     "output_type": "stream",
     "text": [
      "📈 상품코드별 기본 통계 생성\n",
      "==================================================\n",
      "✅ 상품코드별 통계 생성 완료: 138개 상품\n",
      "\n",
      "📊 상품코드별 기본 통계 (상위 10개):\n",
      "             가입자수  수납금액_합계  수납금액_평균  수납금액_표준편차       도매대가_합계   도매대가_평균  \\\n",
      "MVNO상품코드                                                                 \n",
      "LPZ0002633  15876      0.0      0.0        0.0  1.995666e+08  12570.33   \n",
      "LPZ0002635      2      0.0      0.0        0.0  2.369612e+04  11848.06   \n",
      "LPZ0002637      1      0.0      0.0        NaN  2.155718e+04  21557.18   \n",
      "LPZ0002638    159      0.0      0.0        0.0  2.551214e+06  16045.37   \n",
      "LPZ0002639    646      0.0      0.0        0.0  1.467163e+07  22711.50   \n",
      "LPZ0002640      2      0.0      0.0        0.0  3.902971e+04  19514.85   \n",
      "LPZ0002641    494      0.0      0.0        0.0  1.562619e+07  31631.97   \n",
      "LPZ0002642  78510      0.0      0.0        0.0  2.182089e+07    277.94   \n",
      "LPZ0002644    937      0.0      0.0        0.0  4.689010e+06   5004.28   \n",
      "LPZ0002742    275      0.0      0.0        0.0  4.815233e+06  17509.94   \n",
      "\n",
      "            도매대가_표준편차       기본료_합계   기본료_평균  기본료_표준편차    데이터사용금액_합계  \\\n",
      "MVNO상품코드                                                              \n",
      "LPZ0002633    8340.60  261318960.0  16460.0       0.0  1.337849e+08   \n",
      "LPZ0002635   16600.13      40920.0  20460.0       0.0  7.133240e+03   \n",
      "LPZ0002637        NaN      18675.0  18675.0       NaN  1.268990e+05   \n",
      "LPZ0002638   11300.52    3649050.0  22950.0       0.0  2.530745e+07   \n",
      "LPZ0002639   14918.13   19347700.0  29950.0       0.0  3.109124e+08   \n",
      "LPZ0002640   27442.61      67900.0  33950.0       0.0  1.400326e+06   \n",
      "LPZ0002641   16148.76   18127330.0  36695.0       0.0  5.684417e+08   \n",
      "LPZ0002642     117.03          0.0      0.0       0.0  2.490219e+06   \n",
      "LPZ0002644    6820.21   13118000.0  14000.0       0.0  2.684318e+07   \n",
      "LPZ0002742    7478.57    5000050.0  18182.0       0.0  4.587289e+07   \n",
      "\n",
      "            데이터사용금액_평균  데이터사용금액_표준편차     음성통화금액_합계  음성통화금액_평균  음성통화금액_표준편차  \\\n",
      "MVNO상품코드                                                                     \n",
      "LPZ0002633     8426.86      49005.56  1.238059e+08    7798.30     30970.72   \n",
      "LPZ0002635     3566.62       5043.96  1.240668e+04    6203.34      8772.85   \n",
      "LPZ0002637   126899.00           NaN  1.306008e+04   13060.08          NaN   \n",
      "LPZ0002638   159166.34     168231.56  4.228270e+05    2659.29      4568.45   \n",
      "LPZ0002639   481288.51     555300.76  2.447005e+07   37879.34     84973.68   \n",
      "LPZ0002640   700163.03     990180.05  8.145918e+04   40729.59     57600.34   \n",
      "LPZ0002641  1150691.71    1461489.55  2.111883e+07   42750.66     75336.44   \n",
      "LPZ0002642       31.72        930.68  8.260452e+05      10.52       384.45   \n",
      "LPZ0002644    28648.01     118725.87  5.915379e+06    6313.10     22365.56   \n",
      "LPZ0002742   166810.50     107348.69  3.261207e+06   11858.93     27472.70   \n",
      "\n",
      "             SMS금액_합계  SMS금액_평균  SMS금액_표준편차  \n",
      "MVNO상품코드                                     \n",
      "LPZ0002633  5272700.0    332.12     1720.23  \n",
      "LPZ0002635     1040.0    520.00      735.39  \n",
      "LPZ0002637       80.0     80.00         NaN  \n",
      "LPZ0002638    25140.0    158.11      361.82  \n",
      "LPZ0002639   516120.0    798.95     2653.93  \n",
      "LPZ0002640       20.0     10.00       14.14  \n",
      "LPZ0002641   403480.0    816.76     1919.66  \n",
      "LPZ0002642    85995.0      1.10       44.55  \n",
      "LPZ0002644   278440.0    297.16     1893.96  \n",
      "LPZ0002742   163360.0    594.04     3759.15  \n"
     ]
    }
   ],
   "source": [
    "# 상품코드별 기본 통계 생성\n",
    "print(\"📈 상품코드별 기본 통계 생성\")\n",
    "print(\"=\" * 50)\n",
    "\n",
    "# ENTR_BY_INS에서 상품코드별 통계\n",
    "if 'MVNO상품코드' in df_entr.columns:\n",
    "    product_stats = df_entr.groupby('MVNO상품코드').agg({\n",
    "        '가입번호': 'count',                    # 가입자 수\n",
    "        '수납금액': ['sum', 'mean', 'std'],     # 수납금액 통계\n",
    "        '도매대가합계(1~24+82)': ['sum', 'mean', 'std'],  # 도매대가 통계\n",
    "        '38.기본료': ['sum', 'mean', 'std'],    # 기본료 통계\n",
    "        '74.데이타_총사용금액': ['sum', 'mean', 'std'],  # 데이터 사용금액 통계\n",
    "        '41.음성통화_총사용금액': ['sum', 'mean', 'std'],  # 음성통화 사용금액 통계\n",
    "        '51.SMS_총사용금액': ['sum', 'mean', 'std']  # SMS 사용금액 통계\n",
    "    }).round(2)\n",
    "    \n",
    "    # 컬럼명 정리\n",
    "    product_stats.columns = [\n",
    "        '가입자수', '수납금액_합계', '수납금액_평균', '수납금액_표준편차',\n",
    "        '도매대가_합계', '도매대가_평균', '도매대가_표준편차',\n",
    "        '기본료_합계', '기본료_평균', '기본료_표준편차',\n",
    "        '데이터사용금액_합계', '데이터사용금액_평균', '데이터사용금액_표준편차',\n",
    "        '음성통화금액_합계', '음성통화금액_평균', '음성통화금액_표준편차',\n",
    "        'SMS금액_합계', 'SMS금액_평균', 'SMS금액_표준편차'\n",
    "    ]\n",
    "    \n",
    "    print(f\"✅ 상품코드별 통계 생성 완료: {len(product_stats)}개 상품\")\n",
    "    print(f\"\\n📊 상품코드별 기본 통계 (상위 10개):\")\n",
    "    print(product_stats.head(10))\n",
    "    \n",
    "else:\n",
    "    print(\"❌ MVNO상품코드 컬럼을 찾을 수 없습니다.\")\n",
    "    print(f\"사용 가능한 컬럼: {list(df_entr.columns)}\")\n"
   ]
  },
  {
   "cell_type": "code",
   "execution_count": 26,
   "metadata": {},
   "outputs": [
    {
     "name": "stdout",
     "output_type": "stream",
     "text": [
      "\n",
      "🔗 요금제 정보와 병합\n",
      "==================================================\n",
      "✅ 요금제 정보 병합 완료: 138개 상품\n",
      "\n",
      "📊 병합된 상품 통계 (상위 10개):\n",
      "     MVNO상품코드                         요금제명   가입자수  수납금액_합계  수납금액_평균  기본료\n",
      "0  LPZ0002633           [INS]인스 선불정액 300MB  15876      0.0      0.0    0\n",
      "1  LPZ0002635      [INS]인스 선불정액 300MB+(국제)      2      0.0      0.0    0\n",
      "2  LPZ0002637             [INS]인스 정액선불 10G      1      0.0      0.0    0\n",
      "3  LPZ0002638           [INS]인스 정액선불 15GB+    159      0.0      0.0    0\n",
      "4  LPZ0002639            [INS]인스 정액선불 11G+    646      0.0      0.0    0\n",
      "5  LPZ0002640        [INS]인스 정액선불 11G+(국제)      2      0.0      0.0    0\n",
      "6  LPZ0002641          [INS]인스 데이터 프리미엄 선불    494      0.0      0.0    0\n",
      "7  LPZ0002642              [INS]인스 LTE선불표준  78510      0.0      0.0    0\n",
      "8  LPZ0002644     [INS]인스 선불정액 300MB+1Mbps    937      0.0      0.0    0\n",
      "9  LPZ0002742  선불정액363(10.3GB+3Mbps)_인스코리아    275      0.0      0.0    0\n"
     ]
    }
   ],
   "source": [
    "# 요금제 정보와 병합\n",
    "print(\"\\n🔗 요금제 정보와 병합\")\n",
    "print(\"=\" * 50)\n",
    "\n",
    "if 'MVNO상품코드' in df_entr.columns and '요금제코드' in df_plan.columns:\n",
    "    # 요금제 정보와 병합\n",
    "    merged_stats = product_stats.reset_index().merge(\n",
    "        df_plan[['요금제코드', '요금제명', '기본료', '평생할인', '기간할인', '이벤트가', '정책금']], \n",
    "        left_on='MVNO상품코드', \n",
    "        right_on='요금제코드', \n",
    "        how='left'\n",
    "    )\n",
    "    \n",
    "    print(f\"✅ 요금제 정보 병합 완료: {len(merged_stats)}개 상품\")\n",
    "    print(f\"\\n📊 병합된 상품 통계 (상위 10개):\")\n",
    "    display_cols = ['MVNO상품코드', '요금제명', '가입자수', '수납금액_합계', '수납금액_평균', '기본료']\n",
    "    print(merged_stats[display_cols].head(10))\n",
    "    \n",
    "else:\n",
    "    print(\"❌ 병합할 수 있는 컬럼을 찾을 수 없습니다.\")\n",
    "    print(f\"ENTR_BY_INS 컬럼: {[col for col in df_entr.columns if '상품' in col or '코드' in col]}\")\n",
    "    print(f\"MVNO_PRD_PLC 컬럼: {[col for col in df_plan.columns if '상품' in col or '코드' in col or '요금제' in col]}\")\n"
   ]
  },
  {
   "cell_type": "code",
   "execution_count": 27,
   "metadata": {},
   "outputs": [
    {
     "name": "stdout",
     "output_type": "stream",
     "text": [
      "\n",
      "📊 상품코드별 상세 분석\n",
      "==================================================\n",
      "🏆 가입자 수 기준 상위 10개 상품:\n",
      "                가입자수      수납금액_합계   수납금액_평균\n",
      "MVNO상품코드                                   \n",
      "LPZ0002642     78510          0.0      0.00\n",
      "PNP0000000004  54967          0.0      0.00\n",
      "LPZ0002633     15876          0.0      0.00\n",
      "LPZ0012503     14594  347694818.5  23824.50\n",
      "LPZ0012327     11539   99692308.2   8639.60\n",
      "LPZ0017308      8118  173360628.8  21355.09\n",
      "LPZ0017301      7967  240823375.0  30227.61\n",
      "LPZ0018262      7957  118736531.6  14922.27\n",
      "LPZ0012500      6372  153248044.0  24050.23\n",
      "LPZ0010136      5464          0.0      0.00\n",
      "\n",
      "💰 수납금액 합계 기준 상위 10개 상품:\n",
      "             가입자수      수납금액_합계   수납금액_평균\n",
      "MVNO상품코드                                \n",
      "LPZ0012503  14594  347694818.5  23824.50\n",
      "LPZ0017301   7967  240823375.0  30227.61\n",
      "LPZ0017308   8118  173360628.8  21355.09\n",
      "LPZ0012500   6372  153248044.0  24050.23\n",
      "LPZ0012313   4115  118970546.1  28911.43\n",
      "LPZ0018262   7957  118736531.6  14922.27\n",
      "LPZ0012507   3386  100951521.9  29814.39\n",
      "LPZ0012327  11539   99692308.2   8639.60\n",
      "LPZ0012323   3250   69105720.3  21263.30\n",
      "LPZ1000878   3470   36655582.8  10563.57\n",
      "\n",
      "💎 수납금액 평균 기준 상위 10개 상품:\n",
      "            가입자수    수납금액_합계   수납금액_평균\n",
      "MVNO상품코드                             \n",
      "LPZ0019387     1    88150.0  88150.00\n",
      "LPZ0018730     1    60800.0  60800.00\n",
      "LPZ0019586     1    54450.0  54450.00\n",
      "LPZ0012498     4   197995.0  49498.75\n",
      "LPZ0018622     1    47290.0  47290.00\n",
      "LPZ0018686     1    45900.0  45900.00\n",
      "LPZ0017520   192  8663990.8  45124.95\n",
      "LPZ0017306    79  3564240.7  45116.97\n",
      "LPZ0012499    18   740183.3  41121.29\n",
      "LPZ0012356     2    81400.0  40700.00\n",
      "\n",
      "📈 전체 통계 요약:\n",
      "  - 총 상품 수: 138\n",
      "  - 총 가입자 수: 270,192\n",
      "  - 총 수납금액: 1,783,188,397.70\n",
      "  - 평균 수납금액: 16,127.49\n",
      "  - 최대 수납금액: 347,694,818.50\n",
      "  - 최소 수납금액: 0.00\n"
     ]
    }
   ],
   "source": [
    "# 상품코드별 상세 분석\n",
    "print(\"\\n📊 상품코드별 상세 분석\")\n",
    "print(\"=\" * 50)\n",
    "\n",
    "if 'MVNO상품코드' in df_entr.columns:\n",
    "    # 1. 가입자 수 기준 상위 상품\n",
    "    print(\"🏆 가입자 수 기준 상위 10개 상품:\")\n",
    "    top_products = product_stats.nlargest(10, '가입자수')[['가입자수', '수납금액_합계', '수납금액_평균']]\n",
    "    print(top_products)\n",
    "    \n",
    "    # 2. 수납금액 합계 기준 상위 상품\n",
    "    print(f\"\\n💰 수납금액 합계 기준 상위 10개 상품:\")\n",
    "    top_revenue = product_stats.nlargest(10, '수납금액_합계')[['가입자수', '수납금액_합계', '수납금액_평균']]\n",
    "    print(top_revenue)\n",
    "    \n",
    "    # 3. 수납금액 평균 기준 상위 상품\n",
    "    print(f\"\\n💎 수납금액 평균 기준 상위 10개 상품:\")\n",
    "    top_avg_revenue = product_stats.nlargest(10, '수납금액_평균')[['가입자수', '수납금액_합계', '수납금액_평균']]\n",
    "    print(top_avg_revenue)\n",
    "    \n",
    "    # 4. 전체 통계 요약\n",
    "    print(f\"\\n📈 전체 통계 요약:\")\n",
    "    total_stats = {\n",
    "        '총 상품 수': len(product_stats),\n",
    "        '총 가입자 수': product_stats['가입자수'].sum(),\n",
    "        '총 수납금액': product_stats['수납금액_합계'].sum(),\n",
    "        '평균 수납금액': product_stats['수납금액_평균'].mean(),\n",
    "        '최대 수납금액': product_stats['수납금액_합계'].max(),\n",
    "        '최소 수납금액': product_stats['수납금액_합계'].min()\n",
    "    }\n",
    "    \n",
    "    for key, value in total_stats.items():\n",
    "        if isinstance(value, float):\n",
    "            print(f\"  - {key}: {value:,.2f}\")\n",
    "        else:\n",
    "            print(f\"  - {key}: {value:,}\")\n"
   ]
  },
  {
   "cell_type": "code",
   "execution_count": 28,
   "metadata": {},
   "outputs": [
    {
     "name": "stdout",
     "output_type": "stream",
     "text": [
      "\n",
      "📊 시각화 생성\n",
      "==================================================\n"
     ]
    },
    {
     "data": {
      "image/png": "[encoded data removed]",
      "text/plain": [
       "<Figure size 1500x800 with 4 Axes>"
      ]
     },
     "metadata": {},
     "output_type": "display_data"
    },
    {
     "name": "stdout",
     "output_type": "stream",
     "text": [
      "✅ 시각화 완료!\n"
     ]
    }
   ],
   "source": [
    "# 시각화\n",
    "print(\"\\n📊 시각화 생성\")\n",
    "print(\"=\" * 50)\n",
    "\n",
    "if 'MVNO상품코드' in df_entr.columns:\n",
    "    # 1. 가입자 수 분포 (상위 20개)\n",
    "    plt.figure(figsize=(15, 8))\n",
    "    \n",
    "    plt.subplot(2, 2, 1)\n",
    "    top_20_products = product_stats.nlargest(20, '가입자수')\n",
    "    plt.bar(range(len(top_20_products)), top_20_products['가입자수'])\n",
    "    plt.title('상위 20개 상품별 가입자 수')\n",
    "    plt.xlabel('상품코드 (상위 20개)')\n",
    "    plt.ylabel('가입자 수')\n",
    "    plt.xticks(rotation=45)\n",
    "    \n",
    "    # 2. 수납금액 합계 분포 (상위 20개)\n",
    "    plt.subplot(2, 2, 2)\n",
    "    top_20_revenue = product_stats.nlargest(20, '수납금액_합계')\n",
    "    plt.bar(range(len(top_20_revenue)), top_20_revenue['수납금액_합계'])\n",
    "    plt.title('상위 20개 상품별 수납금액 합계')\n",
    "    plt.xlabel('상품코드 (상위 20개)')\n",
    "    plt.ylabel('수납금액 합계')\n",
    "    plt.xticks(rotation=45)\n",
    "    \n",
    "    # 3. 수납금액 평균 분포 (상위 20개)\n",
    "    plt.subplot(2, 2, 3)\n",
    "    top_20_avg = product_stats.nlargest(20, '수납금액_평균')\n",
    "    plt.bar(range(len(top_20_avg)), top_20_avg['수납금액_평균'])\n",
    "    plt.title('상위 20개 상품별 수납금액 평균')\n",
    "    plt.xlabel('상품코드 (상위 20개)')\n",
    "    plt.ylabel('수납금액 평균')\n",
    "    plt.xticks(rotation=45)\n",
    "    \n",
    "    # 4. 가입자 수 vs 수납금액 산점도\n",
    "    plt.subplot(2, 2, 4)\n",
    "    plt.scatter(product_stats['가입자수'], product_stats['수납금액_합계'], alpha=0.6)\n",
    "    plt.title('가입자 수 vs 수납금액 합계')\n",
    "    plt.xlabel('가입자 수')\n",
    "    plt.ylabel('수납금액 합계')\n",
    "    \n",
    "    plt.tight_layout()\n",
    "    plt.show()\n",
    "    \n",
    "    print(\"✅ 시각화 완료!\")\n"
   ]
  },
  {
   "cell_type": "code",
   "execution_count": 29,
   "metadata": {},
   "outputs": [
    {
     "name": "stdout",
     "output_type": "stream",
     "text": [
      "\n",
      "📊 Plotly 인터랙티브 차트 생성\n",
      "==================================================\n"
     ]
    },
    {
     "data": {
      "application/vnd.plotly.v1+json": {
       "config": {
        "plotlyServerURL": "https://plot.ly"
       },
       "data": [
        {
         "hovertemplate": "상품코드=%{x}<br>가입자 수=%{y}<extra></extra>",
         "legendgroup": "",
         "marker": {
          "color": "#636efa",
          "pattern": {
           "shape": ""
          }
         },
         "name": "",
         "orientation": "v",
         "showlegend": false,
         "textposition": "auto",
         "type": "bar",
         "x": [
          "LPZ0002642",
          "PNP0000000004",
          "LPZ0002633",
          "LPZ0012503",
          "LPZ0012327",
          "LPZ0017308",
          "LPZ0017301",
          "LPZ0018262",
          "LPZ0012500",
          "LPZ0010136",
          "PNP0000000005",
          "LRZ1004168",
          "LPZ0012313",
          "LPZ1000878",
          "LPZ0012325",
          "LPZ0018987",
          "LPZ0012507",
          "LPZ0012323",
          "LRZ1000952",
          "LPZ0012330"
         ],
         "xaxis": "x",
         "y": {
          "bdata": "rjIBALfWAAAEPgAAAjkAABMtAAC2HwAAHx8AABUfAADkGAAAWBUAAH8UAAAqEAAAExAAAI4NAAB5DQAAWg0AADoNAACyDAAAJgoAABwIAAA=",
          "dtype": "i4"
         },
         "yaxis": "y"
        }
       ],
       "layout": {
        "barmode": "relative",
        "legend": {
         "tracegroupgap": 0
        },
        "template": {
         "data": {
          "bar": [
           {
            "error_x": {
             "color": "#2a3f5f"
            },
            "error_y": {
             "color": "#2a3f5f"
            },
            "marker": {
             "line": {
              "color": "#E5ECF6",
              "width": 0.5
             },
             "pattern": {
              "fillmode": "overlay",
              "size": 10,
              "solidity": 0.2
             }
            },
            "type": "bar"
           }
          ],
          "barpolar": [
           {
            "marker": {
             "line": {
              "color": "#E5ECF6",
              "width": 0.5
             },
             "pattern": {
              "fillmode": "overlay",
              "size": 10,
              "solidity": 0.2
             }
            },
            "type": "barpolar"
           }
          ],
          "carpet": [
           {
            "aaxis": {
             "endlinecolor": "#2a3f5f",
             "gridcolor": "white",
             "linecolor": "white",
             "minorgridcolor": "white",
             "startlinecolor": "#2a3f5f"
            },
            "baxis": {
             "endlinecolor": "#2a3f5f",
             "gridcolor": "white",
             "linecolor": "white",
             "minorgridcolor": "white",
             "startlinecolor": "#2a3f5f"
            },
            "type": "carpet"
           }
          ],
          "choropleth": [
           {
            "colorbar": {
             "outlinewidth": 0,
             "ticks": ""
            },
            "type": "choropleth"
           }
          ],
          "contour": [
           {
            "colorbar": {
             "outlinewidth": 0,
             "ticks": ""
            },
            "colorscale": [
             [
              0,
              "#0d0887"
             ],
             [
              0.1111111111111111,
              "#46039f"
             ],
             [
              0.2222222222222222,
              "#7201a8"
             ],
             [
              0.3333333333333333,
              "#9c179e"
             ],
             [
              0.4444444444444444,
              "#bd3786"
             ],
             [
              0.5555555555555556,
              "#d8576b"
             ],
             [
              0.6666666666666666,
              "#ed7953"
             ],
             [
              0.7777777777777778,
              "#fb9f3a"
             ],
             [
              0.8888888888888888,
              "#fdca26"
             ],
             [
              1,
              "#f0f921"
             ]
            ],
            "type": "contour"
           }
          ],
          "contourcarpet": [
           {
            "colorbar": {
             "outlinewidth": 0,
             "ticks": ""
            },
            "type": "contourcarpet"
           }
          ],
          "heatmap": [
           {
            "colorbar": {
             "outlinewidth": 0,
             "ticks": ""
            },
            "colorscale": [
             [
              0,
              "#0d0887"
             ],
             [
              0.1111111111111111,
              "#46039f"
             ],
             [
              0.2222222222222222,
              "#7201a8"
             ],
             [
              0.3333333333333333,
              "#9c179e"
             ],
             [
              0.4444444444444444,
              "#bd3786"
             ],
             [
              0.5555555555555556,
              "#d8576b"
             ],
             [
              0.6666666666666666,
              "#ed7953"
             ],
             [
              0.7777777777777778,
              "#fb9f3a"
             ],
             [
              0.8888888888888888,
              "#fdca26"
             ],
             [
              1,
              "#f0f921"
             ]
            ],
            "type": "heatmap"
           }
          ],
          "histogram": [
           {
            "marker": {
             "pattern": {
              "fillmode": "overlay",
              "size": 10,
              "solidity": 0.2
             }
            },
            "type": "histogram"
           }
          ],
          "histogram2d": [
           {
            "colorbar": {
             "outlinewidth": 0,
             "ticks": ""
            },
            "colorscale": [
             [
              0,
              "#0d0887"
             ],
             [
              0.1111111111111111,
              "#46039f"
             ],
             [
              0.2222222222222222,
              "#7201a8"
             ],
             [
              0.3333333333333333,
              "#9c179e"
             ],
             [
              0.4444444444444444,
              "#bd3786"
             ],
             [
              0.5555555555555556,
              "#d8576b"
             ],
             [
              0.6666666666666666,
              "#ed7953"
             ],
             [
              0.7777777777777778,
              "#fb9f3a"
             ],
             [
              0.8888888888888888,
              "#fdca26"
             ],
             [
              1,
              "#f0f921"
             ]
            ],
            "type": "histogram2d"
           }
          ],
          "histogram2dcontour": [
           {
            "colorbar": {
             "outlinewidth": 0,
             "ticks": ""
            },
            "colorscale": [
             [
              0,
              "#0d0887"
             ],
             [
              0.1111111111111111,
              "#46039f"
             ],
             [
              0.2222222222222222,
              "#7201a8"
             ],
             [
              0.3333333333333333,
              "#9c179e"
             ],
             [
              0.4444444444444444,
              "#bd3786"
             ],
             [
              0.5555555555555556,
              "#d8576b"
             ],
             [
              0.6666666666666666,
              "#ed7953"
             ],
             [
              0.7777777777777778,
              "#fb9f3a"
             ],
             [
              0.8888888888888888,
              "#fdca26"
             ],
             [
              1,
              "#f0f921"
             ]
            ],
            "type": "histogram2dcontour"
           }
          ],
          "mesh3d": [
           {
            "colorbar": {
             "outlinewidth": 0,
             "ticks": ""
            },
            "type": "mesh3d"
           }
          ],
          "parcoords": [
           {
            "line": {
             "colorbar": {
              "outlinewidth": 0,
              "ticks": ""
             }
            },
            "type": "parcoords"
           }
          ],
          "pie": [
           {
            "automargin": true,
            "type": "pie"
           }
          ],
          "scatter": [
           {
            "fillpattern": {
             "fillmode": "overlay",
             "size": 10,
             "solidity": 0.2
            },
            "type": "scatter"
           }
          ],
          "scatter3d": [
           {
            "line": {
             "colorbar": {
              "outlinewidth": 0,
              "ticks": ""
             }
            },
            "marker": {
             "colorbar": {
              "outlinewidth": 0,
              "ticks": ""
             }
            },
            "type": "scatter3d"
           }
          ],
          "scattercarpet": [
           {
            "marker": {
             "colorbar": {
              "outlinewidth": 0,
              "ticks": ""
             }
            },
            "type": "scattercarpet"
           }
          ],
          "scattergeo": [
           {
            "marker": {
             "colorbar": {
              "outlinewidth": 0,
              "ticks": ""
             }
            },
            "type": "scattergeo"
           }
          ],
          "scattergl": [
           {
            "marker": {
             "colorbar": {
              "outlinewidth": 0,
              "ticks": ""
             }
            },
            "type": "scattergl"
           }
          ],
          "scattermap": [
           {
            "marker": {
             "colorbar": {
              "outlinewidth": 0,
              "ticks": ""
             }
            },
            "type": "scattermap"
           }
          ],
          "scattermapbox": [
           {
            "marker": {
             "colorbar": {
              "outlinewidth": 0,
              "ticks": ""
             }
            },
            "type": "scattermapbox"
           }
          ],
          "scatterpolar": [
           {
            "marker": {
             "colorbar": {
              "outlinewidth": 0,
              "ticks": ""
             }
            },
            "type": "scatterpolar"
           }
          ],
          "scatterpolargl": [
           {
            "marker": {
             "colorbar": {
              "outlinewidth": 0,
              "ticks": ""
             }
            },
            "type": "scatterpolargl"
           }
          ],
          "scatterternary": [
           {
            "marker": {
             "colorbar": {
              "outlinewidth": 0,
              "ticks": ""
             }
            },
            "type": "scatterternary"
           }
          ],
          "surface": [
           {
            "colorbar": {
             "outlinewidth": 0,
             "ticks": ""
            },
            "colorscale": [
             [
              0,
              "#0d0887"
             ],
             [
              0.1111111111111111,
              "#46039f"
             ],
             [
              0.2222222222222222,
              "#7201a8"
             ],
             [
              0.3333333333333333,
              "#9c179e"
             ],
             [
              0.4444444444444444,
              "#bd3786"
             ],
             [
              0.5555555555555556,
              "#d8576b"
             ],
             [
              0.6666666666666666,
              "#ed7953"
             ],
             [
              0.7777777777777778,
              "#fb9f3a"
             ],
             [
              0.8888888888888888,
              "#fdca26"
             ],
             [
              1,
              "#f0f921"
             ]
            ],
            "type": "surface"
           }
          ],
          "table": [
           {
            "cells": {
             "fill": {
              "color": "#EBF0F8"
             },
             "line": {
              "color": "white"
             }
            },
            "header": {
             "fill": {
              "color": "#C8D4E3"
             },
             "line": {
              "color": "white"
             }
            },
            "type": "table"
           }
          ]
         },
         "layout": {
          "annotationdefaults": {
           "arrowcolor": "#2a3f5f",
           "arrowhead": 0,
           "arrowwidth": 1
          },
          "autotypenumbers": "strict",
          "coloraxis": {
           "colorbar": {
            "outlinewidth": 0,
            "ticks": ""
           }
          },
          "colorscale": {
           "diverging": [
            [
             0,
             "#8e0152"
            ],
            [
             0.1,
             "#c51b7d"
            ],
            [
             0.2,
             "#de77ae"
            ],
            [
             0.3,
             "#f1b6da"
            ],
            [
             0.4,
             "#fde0ef"
            ],
            [
             0.5,
             "#f7f7f7"
            ],
            [
             0.6,
             "#e6f5d0"
            ],
            [
             0.7,
             "#b8e186"
            ],
            [
             0.8,
             "#7fbc41"
            ],
            [
             0.9,
             "#4d9221"
            ],
            [
             1,
             "#276419"
            ]
           ],
           "sequential": [
            [
             0,
             "#0d0887"
            ],
            [
             0.1111111111111111,
             "#46039f"
            ],
            [
             0.2222222222222222,
             "#7201a8"
            ],
            [
             0.3333333333333333,
             "#9c179e"
            ],
            [
             0.4444444444444444,
             "#bd3786"
            ],
            [
             0.5555555555555556,
             "#d8576b"
            ],
            [
             0.6666666666666666,
             "#ed7953"
            ],
            [
             0.7777777777777778,
             "#fb9f3a"
            ],
            [
             0.8888888888888888,
             "#fdca26"
            ],
            [
             1,
             "#f0f921"
            ]
           ],
           "sequentialminus": [
            [
             0,
             "#0d0887"
            ],
            [
             0.1111111111111111,
             "#46039f"
            ],
            [
             0.2222222222222222,
             "#7201a8"
            ],
            [
             0.3333333333333333,
             "#9c179e"
            ],
            [
             0.4444444444444444,
             "#bd3786"
            ],
            [
             0.5555555555555556,
             "#d8576b"
            ],
            [
             0.6666666666666666,
             "#ed7953"
            ],
            [
             0.7777777777777778,
             "#fb9f3a"
            ],
            [
             0.8888888888888888,
             "#fdca26"
            ],
            [
             1,
             "#f0f921"
            ]
           ]
          },
          "colorway": [
           "#636efa",
           "#EF553B",
           "#00cc96",
           "#ab63fa",
           "#FFA15A",
           "#19d3f3",
           "#FF6692",
           "#B6E880",
           "#FF97FF",
           "#FECB52"
          ],
          "font": {
           "color": "#2a3f5f"
          },
          "geo": {
           "bgcolor": "white",
           "lakecolor": "white",
           "landcolor": "#E5ECF6",
           "showlakes": true,
           "showland": true,
           "subunitcolor": "white"
          },
          "hoverlabel": {
           "align": "left"
          },
          "hovermode": "closest",
          "mapbox": {
           "style": "light"
          },
          "paper_bgcolor": "white",
          "plot_bgcolor": "#E5ECF6",
          "polar": {
           "angularaxis": {
            "gridcolor": "white",
            "linecolor": "white",
            "ticks": ""
           },
           "bgcolor": "#E5ECF6",
           "radialaxis": {
            "gridcolor": "white",
            "linecolor": "white",
            "ticks": ""
           }
          },
          "scene": {
           "xaxis": {
            "backgroundcolor": "#E5ECF6",
            "gridcolor": "white",
            "gridwidth": 2,
            "linecolor": "white",
            "showbackground": true,
            "ticks": "",
            "zerolinecolor": "white"
           },
           "yaxis": {
            "backgroundcolor": "#E5ECF6",
            "gridcolor": "white",
            "gridwidth": 2,
            "linecolor": "white",
            "showbackground": true,
            "ticks": "",
            "zerolinecolor": "white"
           },
           "zaxis": {
            "backgroundcolor": "#E5ECF6",
            "gridcolor": "white",
            "gridwidth": 2,
            "linecolor": "white",
            "showbackground": true,
            "ticks": "",
            "zerolinecolor": "white"
           }
          },
          "shapedefaults": {
           "line": {
            "color": "#2a3f5f"
           }
          },
          "ternary": {
           "aaxis": {
            "gridcolor": "white",
            "linecolor": "white",
            "ticks": ""
           },
           "baxis": {
            "gridcolor": "white",
            "linecolor": "white",
            "ticks": ""
           },
           "bgcolor": "#E5ECF6",
           "caxis": {
            "gridcolor": "white",
            "linecolor": "white",
            "ticks": ""
           }
          },
          "title": {
           "x": 0.05
          },
          "xaxis": {
           "automargin": true,
           "gridcolor": "white",
           "linecolor": "white",
           "ticks": "",
           "title": {
            "standoff": 15
           },
           "zerolinecolor": "white",
           "zerolinewidth": 2
          },
          "yaxis": {
           "automargin": true,
           "gridcolor": "white",
           "linecolor": "white",
           "ticks": "",
           "title": {
            "standoff": 15
           },
           "zerolinecolor": "white",
           "zerolinewidth": 2
          }
         }
        },
        "title": {
         "text": "상위 20개 상품별 가입자 수"
        },
        "xaxis": {
         "anchor": "y",
         "domain": [
          0,
          1
         ],
         "tickangle": 45,
         "title": {
          "text": "상품코드"
         }
        },
        "yaxis": {
         "anchor": "x",
         "domain": [
          0,
          1
         ],
         "title": {
          "text": "가입자 수"
         }
        }
       }
      },
      "image/png": "[encoded data removed]"
     },
     "metadata": {},
     "output_type": "display_data"
    },
    {
     "data": {
      "application/vnd.plotly.v1+json": {
       "config": {
        "plotlyServerURL": "https://plot.ly"
       },
       "data": [
        {
         "hovertemplate": "상품코드=%{x}<br>수납금액 합계=%{y}<extra></extra>",
         "legendgroup": "",
         "marker": {
          "color": "#636efa",
          "pattern": {
           "shape": ""
          }
         },
         "name": "",
         "orientation": "v",
         "showlegend": false,
         "textposition": "auto",
         "type": "bar",
         "x": [
          "LPZ0012503",
          "LPZ0017301",
          "LPZ0017308",
          "LPZ0012500",
          "LPZ0012313",
          "LPZ0018262",
          "LPZ0012507",
          "LPZ0012327",
          "LPZ0012323",
          "LPZ1000878",
          "LPZ0018987",
          "LPZ1004432",
          "LPZ0017305",
          "LPZ0018927",
          "LPZ0012508",
          "LPZ0012315",
          "LPZ1004427",
          "LPZ0012332",
          "LPZ0012325",
          "LPZ0017520"
         ],
         "xaxis": "x",
         "y": {
          "bdata": "AACA4ma5tEEAAACeWLWsQZqZmemLqqRBAAAAWMJEokFmZmbIYl2cQWZmZk4aT5xBmpmZh5cRmEHNzMxQvMSXQTMzM+HgeZBBZmZm9o56gUEzMzPzYEWBQZqZmQV+k4BBmpmZeXvufkFmZmYGPb1zQWZmZrZiuHNBmpmZYSO2c0HNzMxsZA9oQWZmZqYBvGNBzczMLNP9YEGamZnZdoZgQQ==",
          "dtype": "f8"
         },
         "yaxis": "y"
        }
       ],
       "layout": {
        "barmode": "relative",
        "legend": {
         "tracegroupgap": 0
        },
        "template": {
         "data": {
          "bar": [
           {
            "error_x": {
             "color": "#2a3f5f"
            },
            "error_y": {
             "color": "#2a3f5f"
            },
            "marker": {
             "line": {
              "color": "#E5ECF6",
              "width": 0.5
             },
             "pattern": {
              "fillmode": "overlay",
              "size": 10,
              "solidity": 0.2
             }
            },
            "type": "bar"
           }
          ],
          "barpolar": [
           {
            "marker": {
             "line": {
              "color": "#E5ECF6",
              "width": 0.5
             },
             "pattern": {
              "fillmode": "overlay",
              "size": 10,
              "solidity": 0.2
             }
            },
            "type": "barpolar"
           }
          ],
          "carpet": [
           {
            "aaxis": {
             "endlinecolor": "#2a3f5f",
             "gridcolor": "white",
             "linecolor": "white",
             "minorgridcolor": "white",
             "startlinecolor": "#2a3f5f"
            },
            "baxis": {
             "endlinecolor": "#2a3f5f",
             "gridcolor": "white",
             "linecolor": "white",
             "minorgridcolor": "white",
             "startlinecolor": "#2a3f5f"
            },
            "type": "carpet"
           }
          ],
          "choropleth": [
           {
            "colorbar": {
             "outlinewidth": 0,
             "ticks": ""
            },
            "type": "choropleth"
           }
          ],
          "contour": [
           {
            "colorbar": {
             "outlinewidth": 0,
             "ticks": ""
            },
            "colorscale": [
             [
              0,
              "#0d0887"
             ],
             [
              0.1111111111111111,
              "#46039f"
             ],
             [
              0.2222222222222222,
              "#7201a8"
             ],
             [
              0.3333333333333333,
              "#9c179e"
             ],
             [
              0.4444444444444444,
              "#bd3786"
             ],
             [
              0.5555555555555556,
              "#d8576b"
             ],
             [
              0.6666666666666666,
              "#ed7953"
             ],
             [
              0.7777777777777778,
              "#fb9f3a"
             ],
             [
              0.8888888888888888,
              "#fdca26"
             ],
             [
              1,
              "#f0f921"
             ]
            ],
            "type": "contour"
           }
          ],
          "contourcarpet": [
           {
            "colorbar": {
             "outlinewidth": 0,
             "ticks": ""
            },
            "type": "contourcarpet"
           }
          ],
          "heatmap": [
           {
            "colorbar": {
             "outlinewidth": 0,
             "ticks": ""
            },
            "colorscale": [
             [
              0,
              "#0d0887"
             ],
             [
              0.1111111111111111,
              "#46039f"
             ],
             [
              0.2222222222222222,
              "#7201a8"
             ],
             [
              0.3333333333333333,
              "#9c179e"
             ],
             [
              0.4444444444444444,
              "#bd3786"
             ],
             [
              0.5555555555555556,
              "#d8576b"
             ],
             [
              0.6666666666666666,
              "#ed7953"
             ],
             [
              0.7777777777777778,
              "#fb9f3a"
             ],
             [
              0.8888888888888888,
              "#fdca26"
             ],
             [
              1,
              "#f0f921"
             ]
            ],
            "type": "heatmap"
           }
          ],
          "histogram": [
           {
            "marker": {
             "pattern": {
              "fillmode": "overlay",
              "size": 10,
              "solidity": 0.2
             }
            },
            "type": "histogram"
           }
          ],
          "histogram2d": [
           {
            "colorbar": {
             "outlinewidth": 0,
             "ticks": ""
            },
            "colorscale": [
             [
              0,
              "#0d0887"
             ],
             [
              0.1111111111111111,
              "#46039f"
             ],
             [
              0.2222222222222222,
              "#7201a8"
             ],
             [
              0.3333333333333333,
              "#9c179e"
             ],
             [
              0.4444444444444444,
              "#bd3786"
             ],
             [
              0.5555555555555556,
              "#d8576b"
             ],
             [
              0.6666666666666666,
              "#ed7953"
             ],
             [
              0.7777777777777778,
              "#fb9f3a"
             ],
             [
              0.8888888888888888,
              "#fdca26"
             ],
             [
              1,
              "#f0f921"
             ]
            ],
            "type": "histogram2d"
           }
          ],
          "histogram2dcontour": [
           {
            "colorbar": {
             "outlinewidth": 0,
             "ticks": ""
            },
            "colorscale": [
             [
              0,
              "#0d0887"
             ],
             [
              0.1111111111111111,
              "#46039f"
             ],
             [
              0.2222222222222222,
              "#7201a8"
             ],
             [
              0.3333333333333333,
              "#9c179e"
             ],
             [
              0.4444444444444444,
              "#bd3786"
             ],
             [
              0.5555555555555556,
              "#d8576b"
             ],
             [
              0.6666666666666666,
              "#ed7953"
             ],
             [
              0.7777777777777778,
              "#fb9f3a"
             ],
             [
              0.8888888888888888,
              "#fdca26"
             ],
             [
              1,
              "#f0f921"
             ]
            ],
            "type": "histogram2dcontour"
           }
          ],
          "mesh3d": [
           {
            "colorbar": {
             "outlinewidth": 0,
             "ticks": ""
            },
            "type": "mesh3d"
           }
          ],
          "parcoords": [
           {
            "line": {
             "colorbar": {
              "outlinewidth": 0,
              "ticks": ""
             }
            },
            "type": "parcoords"
           }
          ],
          "pie": [
           {
            "automargin": true,
            "type": "pie"
           }
          ],
          "scatter": [
           {
            "fillpattern": {
             "fillmode": "overlay",
             "size": 10,
             "solidity": 0.2
            },
            "type": "scatter"
           }
          ],
          "scatter3d": [
           {
            "line": {
             "colorbar": {
              "outlinewidth": 0,
              "ticks": ""
             }
            },
            "marker": {
             "colorbar": {
              "outlinewidth": 0,
              "ticks": ""
             }
            },
            "type": "scatter3d"
           }
          ],
          "scattercarpet": [
           {
            "marker": {
             "colorbar": {
              "outlinewidth": 0,
              "ticks": ""
             }
            },
            "type": "scattercarpet"
           }
          ],
          "scattergeo": [
           {
            "marker": {
             "colorbar": {
              "outlinewidth": 0,
              "ticks": ""
             }
            },
            "type": "scattergeo"
           }
          ],
          "scattergl": [
           {
            "marker": {
             "colorbar": {
              "outlinewidth": 0,
              "ticks": ""
             }
            },
            "type": "scattergl"
           }
          ],
          "scattermap": [
           {
            "marker": {
             "colorbar": {
              "outlinewidth": 0,
              "ticks": ""
             }
            },
            "type": "scattermap"
           }
          ],
          "scattermapbox": [
           {
            "marker": {
             "colorbar": {
              "outlinewidth": 0,
              "ticks": ""
             }
            },
            "type": "scattermapbox"
           }
          ],
          "scatterpolar": [
           {
            "marker": {
             "colorbar": {
              "outlinewidth": 0,
              "ticks": ""
             }
            },
            "type": "scatterpolar"
           }
          ],
          "scatterpolargl": [
           {
            "marker": {
             "colorbar": {
              "outlinewidth": 0,
              "ticks": ""
             }
            },
            "type": "scatterpolargl"
           }
          ],
          "scatterternary": [
           {
            "marker": {
             "colorbar": {
              "outlinewidth": 0,
              "ticks": ""
             }
            },
            "type": "scatterternary"
           }
          ],
          "surface": [
           {
            "colorbar": {
             "outlinewidth": 0,
             "ticks": ""
            },
            "colorscale": [
             [
              0,
              "#0d0887"
             ],
             [
              0.1111111111111111,
              "#46039f"
             ],
             [
              0.2222222222222222,
              "#7201a8"
             ],
             [
              0.3333333333333333,
              "#9c179e"
             ],
             [
              0.4444444444444444,
              "#bd3786"
             ],
             [
              0.5555555555555556,
              "#d8576b"
             ],
             [
              0.6666666666666666,
              "#ed7953"
             ],
             [
              0.7777777777777778,
              "#fb9f3a"
             ],
             [
              0.8888888888888888,
              "#fdca26"
             ],
             [
              1,
              "#f0f921"
             ]
            ],
            "type": "surface"
           }
          ],
          "table": [
           {
            "cells": {
             "fill": {
              "color": "#EBF0F8"
             },
             "line": {
              "color": "white"
             }
            },
            "header": {
             "fill": {
              "color": "#C8D4E3"
             },
             "line": {
              "color": "white"
             }
            },
            "type": "table"
           }
          ]
         },
         "layout": {
          "annotationdefaults": {
           "arrowcolor": "#2a3f5f",
           "arrowhead": 0,
           "arrowwidth": 1
          },
          "autotypenumbers": "strict",
          "coloraxis": {
           "colorbar": {
            "outlinewidth": 0,
            "ticks": ""
           }
          },
          "colorscale": {
           "diverging": [
            [
             0,
             "#8e0152"
            ],
            [
             0.1,
             "#c51b7d"
            ],
            [
             0.2,
             "#de77ae"
            ],
            [
             0.3,
             "#f1b6da"
            ],
            [
             0.4,
             "#fde0ef"
            ],
            [
             0.5,
             "#f7f7f7"
            ],
            [
             0.6,
             "#e6f5d0"
            ],
            [
             0.7,
             "#b8e186"
            ],
            [
             0.8,
             "#7fbc41"
            ],
            [
             0.9,
             "#4d9221"
            ],
            [
             1,
             "#276419"
            ]
           ],
           "sequential": [
            [
             0,
             "#0d0887"
            ],
            [
             0.1111111111111111,
             "#46039f"
            ],
            [
             0.2222222222222222,
             "#7201a8"
            ],
            [
             0.3333333333333333,
             "#9c179e"
            ],
            [
             0.4444444444444444,
             "#bd3786"
            ],
            [
             0.5555555555555556,
             "#d8576b"
            ],
            [
             0.6666666666666666,
             "#ed7953"
            ],
            [
             0.7777777777777778,
             "#fb9f3a"
            ],
            [
             0.8888888888888888,
             "#fdca26"
            ],
            [
             1,
             "#f0f921"
            ]
           ],
           "sequentialminus": [
            [
             0,
             "#0d0887"
            ],
            [
             0.1111111111111111,
             "#46039f"
            ],
            [
             0.2222222222222222,
             "#7201a8"
            ],
            [
             0.3333333333333333,
             "#9c179e"
            ],
            [
             0.4444444444444444,
             "#bd3786"
            ],
            [
             0.5555555555555556,
             "#d8576b"
            ],
            [
             0.6666666666666666,
             "#ed7953"
            ],
            [
             0.7777777777777778,
             "#fb9f3a"
            ],
            [
             0.8888888888888888,
             "#fdca26"
            ],
            [
             1,
             "#f0f921"
            ]
           ]
          },
          "colorway": [
           "#636efa",
           "#EF553B",
           "#00cc96",
           "#ab63fa",
           "#FFA15A",
           "#19d3f3",
           "#FF6692",
           "#B6E880",
           "#FF97FF",
           "#FECB52"
          ],
          "font": {
           "color": "#2a3f5f"
          },
          "geo": {
           "bgcolor": "white",
           "lakecolor": "white",
           "landcolor": "#E5ECF6",
           "showlakes": true,
           "showland": true,
           "subunitcolor": "white"
          },
          "hoverlabel": {
           "align": "left"
          },
          "hovermode": "closest",
          "mapbox": {
           "style": "light"
          },
          "paper_bgcolor": "white",
          "plot_bgcolor": "#E5ECF6",
          "polar": {
           "angularaxis": {
            "gridcolor": "white",
            "linecolor": "white",
            "ticks": ""
           },
           "bgcolor": "#E5ECF6",
           "radialaxis": {
            "gridcolor": "white",
            "linecolor": "white",
            "ticks": ""
           }
          },
          "scene": {
           "xaxis": {
            "backgroundcolor": "#E5ECF6",
            "gridcolor": "white",
            "gridwidth": 2,
            "linecolor": "white",
            "showbackground": true,
            "ticks": "",
            "zerolinecolor": "white"
           },
           "yaxis": {
            "backgroundcolor": "#E5ECF6",
            "gridcolor": "white",
            "gridwidth": 2,
            "linecolor": "white",
            "showbackground": true,
            "ticks": "",
            "zerolinecolor": "white"
           },
           "zaxis": {
            "backgroundcolor": "#E5ECF6",
            "gridcolor": "white",
            "gridwidth": 2,
            "linecolor": "white",
            "showbackground": true,
            "ticks": "",
            "zerolinecolor": "white"
           }
          },
          "shapedefaults": {
           "line": {
            "color": "#2a3f5f"
           }
          },
          "ternary": {
           "aaxis": {
            "gridcolor": "white",
            "linecolor": "white",
            "ticks": ""
           },
           "baxis": {
            "gridcolor": "white",
            "linecolor": "white",
            "ticks": ""
           },
           "bgcolor": "#E5ECF6",
           "caxis": {
            "gridcolor": "white",
            "linecolor": "white",
            "ticks": ""
           }
          },
          "title": {
           "x": 0.05
          },
          "xaxis": {
           "automargin": true,
           "gridcolor": "white",
           "linecolor": "white",
           "ticks": "",
           "title": {
            "standoff": 15
           },
           "zerolinecolor": "white",
           "zerolinewidth": 2
          },
          "yaxis": {
           "automargin": true,
           "gridcolor": "white",
           "linecolor": "white",
           "ticks": "",
           "title": {
            "standoff": 15
           },
           "zerolinecolor": "white",
           "zerolinewidth": 2
          }
         }
        },
        "title": {
         "text": "상위 20개 상품별 수납금액 합계"
        },
        "xaxis": {
         "anchor": "y",
         "domain": [
          0,
          1
         ],
         "tickangle": 45,
         "title": {
          "text": "상품코드"
         }
        },
        "yaxis": {
         "anchor": "x",
         "domain": [
          0,
          1
         ],
         "title": {
          "text": "수납금액 합계"
         }
        }
       }
      },
      "image/png": "[encoded data removed]"
     },
     "metadata": {},
     "output_type": "display_data"
    },
    {
     "data": {
      "application/vnd.plotly.v1+json": {
       "config": {
        "plotlyServerURL": "https://plot.ly"
       },
       "data": [
        {
         "customdata": [
          [
           "LPZ0002633",
           0
          ],
          [
           "LPZ0002635",
           0
          ],
          [
           "LPZ0002637",
           0
          ],
          [
           "LPZ0002638",
           0
          ],
          [
           "LPZ0002639",
           0
          ],
          [
           "LPZ0002640",
           0
          ],
          [
           "LPZ0002641",
           0
          ],
          [
           "LPZ0002642",
           0
          ],
          [
           "LPZ0002644",
           0
          ],
          [
           "LPZ0002742",
           0
          ],
          [
           "LPZ0010136",
           0
          ],
          [
           "LPZ0012313",
           28911.43
          ],
          [
           "LPZ0012315",
           15729.82
          ],
          [
           "LPZ0012323",
           21263.3
          ],
          [
           "LPZ0012324",
           5301.78
          ],
          [
           "LPZ0012325",
           2582.91
          ],
          [
           "LPZ0012326",
           14694.8
          ],
          [
           "LPZ0012327",
           8639.6
          ],
          [
           "LPZ0012328",
           9670.76
          ],
          [
           "LPZ0012329",
           5790.12
          ],
          [
           "LPZ0012330",
           2552
          ],
          [
           "LPZ0012331",
           6464.62
          ],
          [
           "LPZ0012332",
           7486.62
          ],
          [
           "LPZ0012333",
           3337.09
          ],
          [
           "LPZ0012356",
           40700
          ],
          [
           "LPZ0012498",
           49498.75
          ],
          [
           "LPZ0012499",
           41121.29
          ],
          [
           "LPZ0012500",
           24050.23
          ],
          [
           "LPZ0012503",
           23824.5
          ],
          [
           "LPZ0012505",
           33643.39
          ],
          [
           "LPZ0012507",
           29814.39
          ],
          [
           "LPZ0012508",
           22258.54
          ],
          [
           "LPZ0017297",
           18800
          ],
          [
           "LPZ0017301",
           30227.61
          ],
          [
           "LPZ0017302",
           28700
          ],
          [
           "LPZ0017303",
           30508.75
          ],
          [
           "LPZ0017305",
           37237.78
          ],
          [
           "LPZ0017306",
           45116.97
          ],
          [
           "LPZ0017307",
           9950
          ],
          [
           "LPZ0017308",
           21355.09
          ],
          [
           "LPZ0017311",
           3140.59
          ],
          [
           "LPZ0017312",
           5079
          ],
          [
           "LPZ0017313",
           10504.24
          ],
          [
           "LPZ0017314",
           1702.65
          ],
          [
           "LPZ0017315",
           1553.92
          ],
          [
           "LPZ0017520",
           45124.95
          ],
          [
           "LPZ0017522",
           25133.01
          ],
          [
           "LPZ0017654",
           18574.07
          ],
          [
           "LPZ0017656",
           19512.2
          ],
          [
           "LPZ0017965",
           29172.3
          ],
          [
           "LPZ0018033",
           19800
          ],
          [
           "LPZ0018042",
           9655.56
          ],
          [
           "LPZ0018107",
           37400
          ],
          [
           "LPZ0018167",
           37398.43
          ],
          [
           "LPZ0018262",
           14922.27
          ],
          [
           "LPZ0018265",
           15162.11
          ],
          [
           "LPZ0018606",
           29700
          ],
          [
           "LPZ0018607",
           6761.57
          ],
          [
           "LPZ0018608",
           34100
          ],
          [
           "LPZ0018609",
           35933.33
          ],
          [
           "LPZ0018611",
           8615.51
          ],
          [
           "LPZ0018612",
           9285.22
          ],
          [
           "LPZ0018613",
           2747.02
          ],
          [
           "LPZ0018614",
           861.3
          ],
          [
           "LPZ0018616",
           8532.71
          ],
          [
           "LPZ0018617",
           2971.56
          ],
          [
           "LPZ0018618",
           6082.04
          ],
          [
           "LPZ0018622",
           47290
          ],
          [
           "LPZ0018656",
           13326.65
          ],
          [
           "LPZ0018657",
           11463.49
          ],
          [
           "LPZ0018686",
           45900
          ],
          [
           "LPZ0018688",
           9750.83
          ],
          [
           "LPZ0018730",
           60800
          ],
          [
           "LPZ0018732",
           22800
          ],
          [
           "LPZ0018923",
           15943.92
          ],
          [
           "LPZ0018927",
           13863.41
          ],
          [
           "LPZ0018944",
           11565.79
          ],
          [
           "LPZ0018945",
           10492.87
          ],
          [
           "LPZ0018987",
           10596.82
          ],
          [
           "LPZ0018998",
           11253.1
          ],
          [
           "LPZ0019000",
           11696.88
          ],
          [
           "LPZ0019001",
           10854.1
          ],
          [
           "LPZ0019387",
           88150
          ],
          [
           "LPZ0019389",
           27840
          ],
          [
           "LPZ0019394",
           40359.35
          ],
          [
           "LPZ0019395",
           25162.67
          ],
          [
           "LPZ0019396",
           27521.96
          ],
          [
           "LPZ0019397",
           31883.37
          ],
          [
           "LPZ0019443",
           25373.11
          ],
          [
           "LPZ0019447",
           39600
          ],
          [
           "LPZ0019448",
           36025.34
          ],
          [
           "LPZ0019582",
           38498.5
          ],
          [
           "LPZ0019584",
           0
          ],
          [
           "LPZ0019585",
           13293.33
          ],
          [
           "LPZ0019586",
           54450
          ],
          [
           "LPZ0019589",
           29033.33
          ],
          [
           "LPZ0019590",
           26400
          ],
          [
           "LPZ0019594",
           22306.67
          ],
          [
           "LPZ0019595",
           11910
          ],
          [
           "LPZ0019669",
           27180
          ],
          [
           "LPZ0019671",
           31349.67
          ],
          [
           "LPZ0019752",
           21266.71
          ],
          [
           "LPZ1000878",
           10563.57
          ],
          [
           "LPZ1001344",
           12635.93
          ],
          [
           "LPZ1001346",
           35671.66
          ],
          [
           "LPZ1001347",
           21870.25
          ],
          [
           "LPZ1001348",
           31676.15
          ],
          [
           "LPZ1004427",
           32097.8
          ],
          [
           "LPZ1004430",
           40450.77
          ],
          [
           "LPZ1004432",
           34693.3
          ],
          [
           "LRZ0000061",
           207.74
          ],
          [
           "LRZ0000264",
           63.15
          ],
          [
           "LRZ0000283",
           282.15
          ],
          [
           "LRZ0000465",
           0
          ],
          [
           "LRZ0000815",
           0
          ],
          [
           "LRZ0001876",
           0
          ],
          [
           "LRZ0002680",
           0
          ],
          [
           "LRZ0003094",
           0
          ],
          [
           "LRZ0003095",
           0
          ],
          [
           "LRZ1000655",
           0
          ],
          [
           "LRZ1000952",
           0
          ],
          [
           "LRZ1000959",
           0
          ],
          [
           "LRZ1001703",
           0
          ],
          [
           "LRZ1001731",
           0
          ],
          [
           "LRZ1001821",
           0
          ],
          [
           "LRZ1001823",
           0
          ],
          [
           "LRZ1001825",
           0
          ],
          [
           "LRZ1001984",
           0
          ],
          [
           "LRZ1002349",
           0
          ],
          [
           "LRZ1002352",
           0
          ],
          [
           "LRZ1002353",
           0
          ],
          [
           "LRZ1002964",
           0
          ],
          [
           "LRZ1004168",
           0
          ],
          [
           "PNP0000000000",
           21521.65
          ],
          [
           "PNP0000000003",
           0
          ],
          [
           "PNP0000000004",
           0
          ],
          [
           "PNP0000000005",
           0
          ],
          [
           "PNP0000000008",
           0
          ]
         ],
         "hovertemplate": "가입자 수=%{x}<br>수납금액 합계=%{y}<br>MVNO상품코드=%{customdata[0]}<br>수납금액_평균=%{customdata[1]}<extra></extra>",
         "legendgroup": "",
         "marker": {
          "color": "#636efa",
          "symbol": "circle"
         },
         "mode": "markers",
         "name": "",
         "orientation": "v",
         "showlegend": false,
         "type": "scatter",
         "x": {
          "bdata": "BD4AAAIAAAABAAAAnwAAAIYCAAACAAAA7gEAAK4yAQCpAwAAEwEAAFgVAAATEAAAIgUAALIMAACbAQAAeQ0AAC8BAAATLQAAyQEAAIcAAAAcCAAAcQIAAGYFAAB+BAAAAgAAAAQAAAASAAAA5BgAAAI5AABLAAAAOg0AAKEDAAABAAAAHx8AAAEAAAAIAAAAZwMAAE8AAAACAAAAth8AAM0BAAAKAAAAsAAAAKoEAADfAQAAwAAAAB0AAAA8AAAAHAAAAAwAAAACAAAACQAAAAEAAAADAAAAFR8AAAcBAAABAAAAdAIAAAEAAAADAAAASQAAAPEAAAA6AAAAhQMAAE8AAABIAAAAIQIAAAEAAABTAAAAXQAAAAEAAAAEAAAAAQAAAAMAAABdAAAA1QUAAMYCAACLAQAAWg0AABUBAAAQAAAAbQIAAAEAAAACAAAACAAAACMAAAAbAAAAYwAAAA8AAAAIAAAACAAAAAEAAAABAAAAAwAAAAEAAAADAAAAAQAAAAkAAAADAAAAAgAAAAwAAAAbAAAAjg0AAMcAAADMAAAALAEAALQAAACJAQAAFgAAAOoDAABpAAAAagEAAJwAAAAKAAAAAQAAAAEAAAACAAAAYAAAAAMAAAAEAAAAJgoAAAEAAACTAAAAAgAAAD0AAAAUAAAAEgAAAAEAAAAEAAAASwAAACcAAAAgAAAAKhAAAIcAAAAEAAAAt9YAAH8UAADxAAAA",
          "dtype": "i4"
         },
         "xaxis": "x",
         "y": {
          "bdata": "AAAAAAAAAAAAAAAAAAAAAAAAAAAAAAAAAAAAAAAAAAAAAAAAAAAAAAAAAAAAAAAAAAAAAAAAAAAAAAAAAAAAAAAAAAAAAAAAAAAAAAAAAAAAAAAAAAAAAGZmZshiXZxBmpmZYSO2c0EzMzPh4HmQQc3MzMzsn0BBzczMLNP9YEEAAAAAK/xQQc3MzFC8xJdBmpmZ+fPbUEHNzMzMw9onQc3MzAzKNVRBAAAAwGHTTkFmZmamAbxjQc3MzIxtR01BAAAAAIDf80AAAAAAWCsIQZqZmZmuliZBAAAAWMJEokEAAIDiZrm0QTMzMzM7QENBmpmZh5cRmEFmZma2YrhzQQAAAAAAXNJAAAAAnli1rEEAAAAAAAfcQAAAAAAwyw1BmpmZeXvufkGamZlZaDFLQQAAAAAAb9NAmpmZ6YuqpEEAAACAghc2QQAAAADAzOhAAAAAAKs1PEEAAAAASgU/QQAAAAAMtyZBmpmZ2XaGYEGamZmZMj4mQc3MzExMATFBZmZmZkusIEFmZmZmzl0VQQAAAAAAVuNAAAAAAEA39UAAAAAAAEPiQM3MzMw0ZPtAZmZmThpPnEFmZmbmWWxOQQAAAAAAAd1AZmZmBr4yUEEAAAAAgKbgQAAAAACAUfpAAAAAAIgxI0EAAAAAlRJBQQAAAAD4cgNBAAAAAL+uJ0HNzMzMSJIkQZqZmZkBHgpBmpmZ2QxKSUEAAAAAQBfnQJqZmZm/4DBBZmZmZnhEMEEAAAAAgGnmQJqZmZlpC+NAAAAAAACw7UAAAAAAALPwQAAAAAAhoDZBZmZmBj29c0GamZk5P1NfQTMzMzMWn09BMzMz82BFgUHNzMyMGshHQQAAAABw2AZBZmZmpmu2WUEAAAAAYIX1QAAAAAAAMOtAMzMzM+u0E0EzMzMza+AqQQAAAABqrSZBMzMzs/IUSEHNzMzM0joXQQAAAAAAVhNBzczMzCqXEUEAAAAAUMziQAAAAAAAAAAAAAAAAAB540AAAAAAQJbqQAAAAADAQ/VAAAAAAADI2UAAAAAAwIEIQQAAAABAcuFAAAAAAACL6kAAAAAAEPYWQZqZmZnyhSFBZmZm9o56gUGamZkZOy9DQWZmZuZ2wltBzczM7EwHWUHNzMyMEsBVQc3MzGxkD2hBAAAAAHooK0GamZkFfpOAQc3MzMwsTdVAAAAAAABT1kAAAAAA4H3lQAAAAAAAAAAAAAAAAAAAAAAAAAAAAAAAAAAAAAAAAAAAAAAAAAAAAAAAAAAAAAAAAAAAAAAAAAAAAAAAAAAAAAAAAAAAAAAAAAAAAAAAAAAAAAAAAAAAAAAAAAAAAAAAAAAAAAAAAAAAAAAAAAAAAAAAAAAAAAAAAAAAAAAAAAAAAAAAAAAAAAAAAAAAAAAAAAAAAAAAAAAAAAAAAAAAAAAzMzOzpypGQQAAAAAAAAAAAAAAAAAAAAAAAAAAAAAAAAAAAAAAAAAA",
          "dtype": "f8"
         },
         "yaxis": "y"
        }
       ],
       "layout": {
        "legend": {
         "tracegroupgap": 0
        },
        "template": {
         "data": {
          "bar": [
           {
            "error_x": {
             "color": "#2a3f5f"
            },
            "error_y": {
             "color": "#2a3f5f"
            },
            "marker": {
             "line": {
              "color": "#E5ECF6",
              "width": 0.5
             },
             "pattern": {
              "fillmode": "overlay",
              "size": 10,
              "solidity": 0.2
             }
            },
            "type": "bar"
           }
          ],
          "barpolar": [
           {
            "marker": {
             "line": {
              "color": "#E5ECF6",
              "width": 0.5
             },
             "pattern": {
              "fillmode": "overlay",
              "size": 10,
              "solidity": 0.2
             }
            },
            "type": "barpolar"
           }
          ],
          "carpet": [
           {
            "aaxis": {
             "endlinecolor": "#2a3f5f",
             "gridcolor": "white",
             "linecolor": "white",
             "minorgridcolor": "white",
             "startlinecolor": "#2a3f5f"
            },
            "baxis": {
             "endlinecolor": "#2a3f5f",
             "gridcolor": "white",
             "linecolor": "white",
             "minorgridcolor": "white",
             "startlinecolor": "#2a3f5f"
            },
            "type": "carpet"
           }
          ],
          "choropleth": [
           {
            "colorbar": {
             "outlinewidth": 0,
             "ticks": ""
            },
            "type": "choropleth"
           }
          ],
          "contour": [
           {
            "colorbar": {
             "outlinewidth": 0,
             "ticks": ""
            },
            "colorscale": [
             [
              0,
              "#0d0887"
             ],
             [
              0.1111111111111111,
              "#46039f"
             ],
             [
              0.2222222222222222,
              "#7201a8"
             ],
             [
              0.3333333333333333,
              "#9c179e"
             ],
             [
              0.4444444444444444,
              "#bd3786"
             ],
             [
              0.5555555555555556,
              "#d8576b"
             ],
             [
              0.6666666666666666,
              "#ed7953"
             ],
             [
              0.7777777777777778,
              "#fb9f3a"
             ],
             [
              0.8888888888888888,
              "#fdca26"
             ],
             [
              1,
              "#f0f921"
             ]
            ],
            "type": "contour"
           }
          ],
          "contourcarpet": [
           {
            "colorbar": {
             "outlinewidth": 0,
             "ticks": ""
            },
            "type": "contourcarpet"
           }
          ],
          "heatmap": [
           {
            "colorbar": {
             "outlinewidth": 0,
             "ticks": ""
            },
            "colorscale": [
             [
              0,
              "#0d0887"
             ],
             [
              0.1111111111111111,
              "#46039f"
             ],
             [
              0.2222222222222222,
              "#7201a8"
             ],
             [
              0.3333333333333333,
              "#9c179e"
             ],
             [
              0.4444444444444444,
              "#bd3786"
             ],
             [
              0.5555555555555556,
              "#d8576b"
             ],
             [
              0.6666666666666666,
              "#ed7953"
             ],
             [
              0.7777777777777778,
              "#fb9f3a"
             ],
             [
              0.8888888888888888,
              "#fdca26"
             ],
             [
              1,
              "#f0f921"
             ]
            ],
            "type": "heatmap"
           }
          ],
          "histogram": [
           {
            "marker": {
             "pattern": {
              "fillmode": "overlay",
              "size": 10,
              "solidity": 0.2
             }
            },
            "type": "histogram"
           }
          ],
          "histogram2d": [
           {
            "colorbar": {
             "outlinewidth": 0,
             "ticks": ""
            },
            "colorscale": [
             [
              0,
              "#0d0887"
             ],
             [
              0.1111111111111111,
              "#46039f"
             ],
             [
              0.2222222222222222,
              "#7201a8"
             ],
             [
              0.3333333333333333,
              "#9c179e"
             ],
             [
              0.4444444444444444,
              "#bd3786"
             ],
             [
              0.5555555555555556,
              "#d8576b"
             ],
             [
              0.6666666666666666,
              "#ed7953"
             ],
             [
              0.7777777777777778,
              "#fb9f3a"
             ],
             [
              0.8888888888888888,
              "#fdca26"
             ],
             [
              1,
              "#f0f921"
             ]
            ],
            "type": "histogram2d"
           }
          ],
          "histogram2dcontour": [
           {
            "colorbar": {
             "outlinewidth": 0,
             "ticks": ""
            },
            "colorscale": [
             [
              0,
              "#0d0887"
             ],
             [
              0.1111111111111111,
              "#46039f"
             ],
             [
              0.2222222222222222,
              "#7201a8"
             ],
             [
              0.3333333333333333,
              "#9c179e"
             ],
             [
              0.4444444444444444,
              "#bd3786"
             ],
             [
              0.5555555555555556,
              "#d8576b"
             ],
             [
              0.6666666666666666,
              "#ed7953"
             ],
             [
              0.7777777777777778,
              "#fb9f3a"
             ],
             [
              0.8888888888888888,
              "#fdca26"
             ],
             [
              1,
              "#f0f921"
             ]
            ],
            "type": "histogram2dcontour"
           }
          ],
          "mesh3d": [
           {
            "colorbar": {
             "outlinewidth": 0,
             "ticks": ""
            },
            "type": "mesh3d"
           }
          ],
          "parcoords": [
           {
            "line": {
             "colorbar": {
              "outlinewidth": 0,
              "ticks": ""
             }
            },
            "type": "parcoords"
           }
          ],
          "pie": [
           {
            "automargin": true,
            "type": "pie"
           }
          ],
          "scatter": [
           {
            "fillpattern": {
             "fillmode": "overlay",
             "size": 10,
             "solidity": 0.2
            },
            "type": "scatter"
           }
          ],
          "scatter3d": [
           {
            "line": {
             "colorbar": {
              "outlinewidth": 0,
              "ticks": ""
             }
            },
            "marker": {
             "colorbar": {
              "outlinewidth": 0,
              "ticks": ""
             }
            },
            "type": "scatter3d"
           }
          ],
          "scattercarpet": [
           {
            "marker": {
             "colorbar": {
              "outlinewidth": 0,
              "ticks": ""
             }
            },
            "type": "scattercarpet"
           }
          ],
          "scattergeo": [
           {
            "marker": {
             "colorbar": {
              "outlinewidth": 0,
              "ticks": ""
             }
            },
            "type": "scattergeo"
           }
          ],
          "scattergl": [
           {
            "marker": {
             "colorbar": {
              "outlinewidth": 0,
              "ticks": ""
             }
            },
            "type": "scattergl"
           }
          ],
          "scattermap": [
           {
            "marker": {
             "colorbar": {
              "outlinewidth": 0,
              "ticks": ""
             }
            },
            "type": "scattermap"
           }
          ],
          "scattermapbox": [
           {
            "marker": {
             "colorbar": {
              "outlinewidth": 0,
              "ticks": ""
             }
            },
            "type": "scattermapbox"
           }
          ],
          "scatterpolar": [
           {
            "marker": {
             "colorbar": {
              "outlinewidth": 0,
              "ticks": ""
             }
            },
            "type": "scatterpolar"
           }
          ],
          "scatterpolargl": [
           {
            "marker": {
             "colorbar": {
              "outlinewidth": 0,
              "ticks": ""
             }
            },
            "type": "scatterpolargl"
           }
          ],
          "scatterternary": [
           {
            "marker": {
             "colorbar": {
              "outlinewidth": 0,
              "ticks": ""
             }
            },
            "type": "scatterternary"
           }
          ],
          "surface": [
           {
            "colorbar": {
             "outlinewidth": 0,
             "ticks": ""
            },
            "colorscale": [
             [
              0,
              "#0d0887"
             ],
             [
              0.1111111111111111,
              "#46039f"
             ],
             [
              0.2222222222222222,
              "#7201a8"
             ],
             [
              0.3333333333333333,
              "#9c179e"
             ],
             [
              0.4444444444444444,
              "#bd3786"
             ],
             [
              0.5555555555555556,
              "#d8576b"
             ],
             [
              0.6666666666666666,
              "#ed7953"
             ],
             [
              0.7777777777777778,
              "#fb9f3a"
             ],
             [
              0.8888888888888888,
              "#fdca26"
             ],
             [
              1,
              "#f0f921"
             ]
            ],
            "type": "surface"
           }
          ],
          "table": [
           {
            "cells": {
             "fill": {
              "color": "#EBF0F8"
             },
             "line": {
              "color": "white"
             }
            },
            "header": {
             "fill": {
              "color": "#C8D4E3"
             },
             "line": {
              "color": "white"
             }
            },
            "type": "table"
           }
          ]
         },
         "layout": {
          "annotationdefaults": {
           "arrowcolor": "#2a3f5f",
           "arrowhead": 0,
           "arrowwidth": 1
          },
          "autotypenumbers": "strict",
          "coloraxis": {
           "colorbar": {
            "outlinewidth": 0,
            "ticks": ""
           }
          },
          "colorscale": {
           "diverging": [
            [
             0,
             "#8e0152"
            ],
            [
             0.1,
             "#c51b7d"
            ],
            [
             0.2,
             "#de77ae"
            ],
            [
             0.3,
             "#f1b6da"
            ],
            [
             0.4,
             "#fde0ef"
            ],
            [
             0.5,
             "#f7f7f7"
            ],
            [
             0.6,
             "#e6f5d0"
            ],
            [
             0.7,
             "#b8e186"
            ],
            [
             0.8,
             "#7fbc41"
            ],
            [
             0.9,
             "#4d9221"
            ],
            [
             1,
             "#276419"
            ]
           ],
           "sequential": [
            [
             0,
             "#0d0887"
            ],
            [
             0.1111111111111111,
             "#46039f"
            ],
            [
             0.2222222222222222,
             "#7201a8"
            ],
            [
             0.3333333333333333,
             "#9c179e"
            ],
            [
             0.4444444444444444,
             "#bd3786"
            ],
            [
             0.5555555555555556,
             "#d8576b"
            ],
            [
             0.6666666666666666,
             "#ed7953"
            ],
            [
             0.7777777777777778,
             "#fb9f3a"
            ],
            [
             0.8888888888888888,
             "#fdca26"
            ],
            [
             1,
             "#f0f921"
            ]
           ],
           "sequentialminus": [
            [
             0,
             "#0d0887"
            ],
            [
             0.1111111111111111,
             "#46039f"
            ],
            [
             0.2222222222222222,
             "#7201a8"
            ],
            [
             0.3333333333333333,
             "#9c179e"
            ],
            [
             0.4444444444444444,
             "#bd3786"
            ],
            [
             0.5555555555555556,
             "#d8576b"
            ],
            [
             0.6666666666666666,
             "#ed7953"
            ],
            [
             0.7777777777777778,
             "#fb9f3a"
            ],
            [
             0.8888888888888888,
             "#fdca26"
            ],
            [
             1,
             "#f0f921"
            ]
           ]
          },
          "colorway": [
           "#636efa",
           "#EF553B",
           "#00cc96",
           "#ab63fa",
           "#FFA15A",
           "#19d3f3",
           "#FF6692",
           "#B6E880",
           "#FF97FF",
           "#FECB52"
          ],
          "font": {
           "color": "#2a3f5f"
          },
          "geo": {
           "bgcolor": "white",
           "lakecolor": "white",
           "landcolor": "#E5ECF6",
           "showlakes": true,
           "showland": true,
           "subunitcolor": "white"
          },
          "hoverlabel": {
           "align": "left"
          },
          "hovermode": "closest",
          "mapbox": {
           "style": "light"
          },
          "paper_bgcolor": "white",
          "plot_bgcolor": "#E5ECF6",
          "polar": {
           "angularaxis": {
            "gridcolor": "white",
            "linecolor": "white",
            "ticks": ""
           },
           "bgcolor": "#E5ECF6",
           "radialaxis": {
            "gridcolor": "white",
            "linecolor": "white",
            "ticks": ""
           }
          },
          "scene": {
           "xaxis": {
            "backgroundcolor": "#E5ECF6",
            "gridcolor": "white",
            "gridwidth": 2,
            "linecolor": "white",
            "showbackground": true,
            "ticks": "",
            "zerolinecolor": "white"
           },
           "yaxis": {
            "backgroundcolor": "#E5ECF6",
            "gridcolor": "white",
            "gridwidth": 2,
            "linecolor": "white",
            "showbackground": true,
            "ticks": "",
            "zerolinecolor": "white"
           },
           "zaxis": {
            "backgroundcolor": "#E5ECF6",
            "gridcolor": "white",
            "gridwidth": 2,
            "linecolor": "white",
            "showbackground": true,
            "ticks": "",
            "zerolinecolor": "white"
           }
          },
          "shapedefaults": {
           "line": {
            "color": "#2a3f5f"
           }
          },
          "ternary": {
           "aaxis": {
            "gridcolor": "white",
            "linecolor": "white",
            "ticks": ""
           },
           "baxis": {
            "gridcolor": "white",
            "linecolor": "white",
            "ticks": ""
           },
           "bgcolor": "#E5ECF6",
           "caxis": {
            "gridcolor": "white",
            "linecolor": "white",
            "ticks": ""
           }
          },
          "title": {
           "x": 0.05
          },
          "xaxis": {
           "automargin": true,
           "gridcolor": "white",
           "linecolor": "white",
           "ticks": "",
           "title": {
            "standoff": 15
           },
           "zerolinecolor": "white",
           "zerolinewidth": 2
          },
          "yaxis": {
           "automargin": true,
           "gridcolor": "white",
           "linecolor": "white",
           "ticks": "",
           "title": {
            "standoff": 15
           },
           "zerolinecolor": "white",
           "zerolinewidth": 2
          }
         }
        },
        "title": {
         "text": "가입자 수 vs 수납금액 합계"
        },
        "xaxis": {
         "anchor": "y",
         "domain": [
          0,
          1
         ],
         "title": {
          "text": "가입자 수"
         }
        },
        "yaxis": {
         "anchor": "x",
         "domain": [
          0,
          1
         ],
         "title": {
          "text": "수납금액 합계"
         }
        }
       }
      },
      "image/png": "[encoded data removed]"
     },
     "metadata": {},
     "output_type": "display_data"
    },
    {
     "name": "stdout",
     "output_type": "stream",
     "text": [
      "✅ Plotly 차트 생성 완료!\n"
     ]
    }
   ],
   "source": [
    "# Plotly 인터랙티브 차트\n",
    "print(\"\\n📊 Plotly 인터랙티브 차트 생성\")\n",
    "print(\"=\" * 50)\n",
    "\n",
    "if 'MVNO상품코드' in df_entr.columns:\n",
    "    # 1. 가입자 수 기준 상위 20개 상품\n",
    "    top_20_products = product_stats.nlargest(20, '가입자수').reset_index()\n",
    "    \n",
    "    fig1 = px.bar(\n",
    "        top_20_products, \n",
    "        x='MVNO상품코드', \n",
    "        y='가입자수',\n",
    "        title='상위 20개 상품별 가입자 수',\n",
    "        labels={'가입자수': '가입자 수', 'MVNO상품코드': '상품코드'}\n",
    "    )\n",
    "    fig1.update_xaxes(tickangle=45)\n",
    "    fig1.show()\n",
    "    \n",
    "    # 2. 수납금액 합계 기준 상위 20개 상품\n",
    "    top_20_revenue = product_stats.nlargest(20, '수납금액_합계').reset_index()\n",
    "    \n",
    "    fig2 = px.bar(\n",
    "        top_20_revenue, \n",
    "        x='MVNO상품코드', \n",
    "        y='수납금액_합계',\n",
    "        title='상위 20개 상품별 수납금액 합계',\n",
    "        labels={'수납금액_합계': '수납금액 합계', 'MVNO상품코드': '상품코드'}\n",
    "    )\n",
    "    fig2.update_xaxes(tickangle=45)\n",
    "    fig2.show()\n",
    "    \n",
    "    # 3. 가입자 수 vs 수납금액 산점도 (인터랙티브)\n",
    "    fig3 = px.scatter(\n",
    "        product_stats.reset_index(),\n",
    "        x='가입자수',\n",
    "        y='수납금액_합계',\n",
    "        hover_data=['MVNO상품코드', '수납금액_평균'],\n",
    "        title='가입자 수 vs 수납금액 합계',\n",
    "        labels={'가입자수': '가입자 수', '수납금액_합계': '수납금액 합계'}\n",
    "    )\n",
    "    fig3.show()\n",
    "    \n",
    "    print(\"✅ Plotly 차트 생성 완료!\")\n"
   ]
  },
  {
   "cell_type": "code",
   "execution_count": 30,
   "metadata": {},
   "outputs": [
    {
     "name": "stdout",
     "output_type": "stream",
     "text": [
      "\n",
      "📋 상세 통계 테이블 생성\n",
      "==================================================\n",
      "📊 상세 통계 테이블 (상위 15개):\n",
      "     MVNO상품코드  가입자수  가입자수_비율(%)     수납금액_합계  수납금액_평균  수납금액_총합_비율(%)  상품당_평균수납금액\n",
      "   LPZ0002642 78510       29.06         0.0     0.00           0.00        0.00\n",
      "PNP0000000004 54967       20.34         0.0     0.00           0.00        0.00\n",
      "   LPZ0002633 15876        5.88         0.0     0.00           0.00        0.00\n",
      "   LPZ0012503 14594        5.40 347694818.5 23824.50          19.50    23824.50\n",
      "   LPZ0012327 11539        4.27  99692308.2  8639.60           5.59     8639.60\n",
      "   LPZ0017308  8118        3.00 173360628.8 21355.09           9.72    21355.09\n",
      "   LPZ0017301  7967        2.95 240823375.0 30227.61          13.51    30227.61\n",
      "   LPZ0018262  7957        2.94 118736531.6 14922.27           6.66    14922.27\n",
      "   LPZ0012500  6372        2.36 153248044.0 24050.23           8.59    24050.23\n",
      "   LPZ0010136  5464        2.02         0.0     0.00           0.00        0.00\n",
      "PNP0000000005  5247        1.94         0.0     0.00           0.00        0.00\n",
      "   LRZ1004168  4138        1.53         0.0     0.00           0.00        0.00\n",
      "   LPZ0012313  4115        1.52 118970546.1 28911.43           6.67    28911.43\n",
      "   LPZ1000878  3470        1.28  36655582.8 10563.57           2.06    10563.57\n",
      "   LPZ0012325  3449        1.28   8908441.4  2582.91           0.50     2582.91\n",
      "\n",
      "📈 전체 요약:\n",
      "  - 총 상품 수: 138개\n",
      "  - 총 가입자 수: 270,192명\n",
      "  - 총 수납금액: 1,783,188,397.70원\n",
      "  - 평균 상품당 가입자 수: 1957.9명\n",
      "  - 평균 상품당 수납금액: 12,921,655.06원\n"
     ]
    }
   ],
   "source": [
    "# 상세 통계 테이블 생성\n",
    "print(\"\\n📋 상세 통계 테이블 생성\")\n",
    "print(\"=\" * 50)\n",
    "\n",
    "if 'MVNO상품코드' in df_entr.columns:\n",
    "    # 상세 통계 테이블\n",
    "    detailed_stats = product_stats.copy()\n",
    "    detailed_stats = detailed_stats.reset_index()\n",
    "    \n",
    "    # 추가 계산 컬럼\n",
    "    detailed_stats['수납금액_총합_비율(%)'] = (detailed_stats['수납금액_합계'] / detailed_stats['수납금액_합계'].sum() * 100).round(2)\n",
    "    detailed_stats['가입자수_비율(%)'] = (detailed_stats['가입자수'] / detailed_stats['가입자수'].sum() * 100).round(2)\n",
    "    detailed_stats['상품당_평균수납금액'] = (detailed_stats['수납금액_합계'] / detailed_stats['가입자수']).round(2)\n",
    "    \n",
    "    # 정렬 (가입자 수 기준)\n",
    "    detailed_stats = detailed_stats.sort_values('가입자수', ascending=False)\n",
    "    \n",
    "    print(\"📊 상세 통계 테이블 (상위 15개):\")\n",
    "    display_cols = [\n",
    "        'MVNO상품코드', '가입자수', '가입자수_비율(%)', \n",
    "        '수납금액_합계', '수납금액_평균', '수납금액_총합_비율(%)',\n",
    "        '상품당_평균수납금액'\n",
    "    ]\n",
    "    print(detailed_stats[display_cols].head(15).to_string(index=False))\n",
    "    \n",
    "    print(f\"\\n📈 전체 요약:\")\n",
    "    print(f\"  - 총 상품 수: {len(detailed_stats):,}개\")\n",
    "    print(f\"  - 총 가입자 수: {detailed_stats['가입자수'].sum():,}명\")\n",
    "    print(f\"  - 총 수납금액: {detailed_stats['수납금액_합계'].sum():,.2f}원\")\n",
    "    print(f\"  - 평균 상품당 가입자 수: {detailed_stats['가입자수'].mean():.1f}명\")\n",
    "    print(f\"  - 평균 상품당 수납금액: {detailed_stats['수납금액_합계'].mean():,.2f}원\")\n"
   ]
  },
  {
   "cell_type": "code",
   "execution_count": null,
   "metadata": {},
   "outputs": [
    {
     "name": "stdout",
     "output_type": "stream",
     "text": [
      "\n",
      "💾 결과 저장\n",
      "==================================================\n",
      "✅ product_statistics.csv 저장 완료\n",
      "✅ detailed_product_statistics.csv 저장 완료\n",
      "✅ merged_product_statistics.csv 저장 완료\n",
      "\n",
      "📁 저장된 파일:\n",
      "  - product_statistics.csv: 기본 상품코드별 통계\n",
      "  - detailed_product_statistics.csv: 상세 통계 (비율 포함)\n",
      "  - merged_product_statistics.csv: 요금제 정보 병합 결과\n",
      "\n",
      "🎉 상품코드별 통계 분석 및 데이터 병합 완료!\n"
     ]
    }
   ],
   "source": [
    "# 결과를 CSV 파일로 저장\n",
    "print(\"\\n💾 결과 저장\")\n",
    "print(\"=\" * 50)\n",
    "\n",
    "if 'MVNO상품코드' in df_entr.columns:\n",
    "    try:\n",
    "        # 상품코드별 통계 저장\n",
    "        product_stats.to_csv('product_statistics.csv', encoding='utf-8')\n",
    "        print(\"✅ product_statistics.csv 저장 완료\")\n",
    "        \n",
    "        # 상세 통계 저장\n",
    "        detailed_stats.to_csv('detailed_product_statistics.csv', encoding='utf-8')\n",
    "        print(\"✅ detailed_product_statistics.csv 저장 완료\")\n",
    "        \n",
    "        # 요금제 정보와 병합된 결과 저장 (가능한 경우)\n",
    "        if 'merged_stats' in locals():\n",
    "            merged_stats.to_csv('merged_product_statistics.csv', encoding='utf-8')\n",
    "            print(\"✅ merged_product_statistics.csv 저장 완료\")\n",
    "        \n",
    "        # ENTR_BY_INS와 MVNO_PRD_PLC 병합 파일 저장 (가능한 경우)\n",
    "        if 'merged_df' in locals():\n",
    "            merged_df.to_csv('ENTR_BY_INS_MERGE.csv', index=False, encoding='utf-8')\n",
    "            print(\"✅ ENTR_BY_INS_MERGE.csv 저장 완료\")\n",
    "        \n",
    "        # 공통 고객 관련 파일들 저장 (가능한 경우)\n",
    "        if 'common_numbers' in locals() and len(common_numbers) > 0:\n",
    "            if 'entr_by_common' in locals():\n",
    "                entr_by_common.to_csv('common_customers_entr_by.csv', index=False, encoding='utf-8')\n",
    "                print(\"✅ common_customers_entr_by.csv 저장 완료\")\n",
    "            if 'entr_int_common' in locals():\n",
    "                entr_int_common.to_csv('common_customers_entr_int.csv', index=False, encoding='utf-8')\n",
    "                print(\"✅ common_customers_entr_int.csv 저장 완료\")\n",
    "            if 'summary_df' in locals():\n",
    "                summary_df.to_csv('common_customers_summary.csv', index=False, encoding='utf-8')\n",
    "                print(\"✅ common_customers_summary.csv 저장 완료\")\n",
    "        \n",
    "        print(f\"\\n📁 저장된 파일:\")\n",
    "        print(f\"  - product_statistics.csv: 기본 상품코드별 통계\")\n",
    "        print(f\"  - detailed_product_statistics.csv: 상세 통계 (비율 포함)\")\n",
    "        if 'merged_stats' in locals():\n",
    "            print(f\"  - merged_product_statistics.csv: 요금제 정보 병합 결과\")\n",
    "        if 'merged_df' in locals():\n",
    "            print(f\"  - ENTR_BY_INS_MERGE.csv: ENTR_BY_INS + MVNO_PRD_PLC 병합 데이터\")\n",
    "        if 'common_numbers' in locals() and len(common_numbers) > 0:\n",
    "            print(f\"  - common_customers_entr_by.csv: 공통 고객 (ENTR_BY_INS)\")\n",
    "            print(f\"  - common_customers_entr_int.csv: 공통 고객 (ENTR_INT_INS)\")\n",
    "            print(f\"  - common_customers_summary.csv: 공통 고객 요약 정보\")\n",
    "            \n",
    "    except Exception as e:\n",
    "        print(f\"❌ 파일 저장 중 오류: {e}\")\n",
    "\n",
    "print(f\"\\n🎉 상품코드별 통계 분석 및 데이터 병합 완료!\")\n"
   ]
  },
  {
   "cell_type": "code",
   "execution_count": 32,
   "metadata": {},
   "outputs": [
    {
     "name": "stdout",
     "output_type": "stream",
     "text": [
      "\n",
      "🔗 데이터 매핑 및 병합\n",
      "==================================================\n",
      "📊 원본 데이터 정보:\n",
      "  - ENTR_BY_INS.csv: 270,192행 × 111열\n",
      "  - MVNO_PRD_PLC.csv: 138행 × 9열\n",
      "\n",
      "🔄 데이터 병합 중...\n",
      "✅ 데이터 병합 완료: 270,192행 × 120열\n",
      "\n",
      "📋 매핑 결과:\n",
      "  - 매핑 성공: 270,192건 (100.0%)\n",
      "  - 매핑 실패: 0건 (0.0%)\n",
      "\n",
      "💾 ENTR_BY_INS_MERGE.csv 저장 중...\n",
      "✅ ENTR_BY_INS_MERGE.csv 저장 완료\n",
      "📁 파일 정보:\n",
      "  - 파일명: ENTR_BY_INS_MERGE.csv\n",
      "  - 크기: 188.89 MB\n",
      "  - 행 수: 270,192\n",
      "  - 열 수: 120\n",
      "\n",
      "📋 추가된 컬럼 (9개):\n",
      "  - 요금제코드\n",
      "  - 요금제명\n",
      "  - 기본료\n",
      "  - 평생할인\n",
      "  - 기간할인\n",
      "  - 이벤트가\n",
      "  - 정책금\n",
      "  - 정책반영시작일\n",
      "  - 정책반영종료일\n"
     ]
    }
   ],
   "source": [
    "# ENTR_BY_INS.csv와 MVNO_PRD_PLC.csv 매핑하여 새로운 CSV 생성\n",
    "print(\"\\n🔗 데이터 매핑 및 병합\")\n",
    "print(\"=\" * 50)\n",
    "\n",
    "if 'MVNO상품코드' in df_entr.columns and '요금제코드' in df_plan.columns:\n",
    "    print(\"📊 원본 데이터 정보:\")\n",
    "    print(f\"  - ENTR_BY_INS.csv: {df_entr.shape[0]:,}행 × {df_entr.shape[1]}열\")\n",
    "    print(f\"  - MVNO_PRD_PLC.csv: {df_plan.shape[0]:,}행 × {df_plan.shape[1]}열\")\n",
    "    \n",
    "    # 요금제 정보와 병합\n",
    "    print(\"\\n🔄 데이터 병합 중...\")\n",
    "    merged_df = df_entr.merge(\n",
    "        df_plan[['요금제코드', '요금제명', '기본료', '평생할인', '기간할인', '이벤트가', '정책금', '정책반영시작일', '정책반영종료일']], \n",
    "        left_on='MVNO상품코드', \n",
    "        right_on='요금제코드', \n",
    "        how='left'\n",
    "    )\n",
    "    \n",
    "    print(f\"✅ 데이터 병합 완료: {merged_df.shape[0]:,}행 × {merged_df.shape[1]}열\")\n",
    "    \n",
    "    # 매핑 결과 확인\n",
    "    print(f\"\\n📋 매핑 결과:\")\n",
    "    matched_count = merged_df['요금제코드'].notna().sum()\n",
    "    unmatched_count = merged_df['요금제코드'].isna().sum()\n",
    "    total_count = len(merged_df)\n",
    "    \n",
    "    print(f\"  - 매핑 성공: {matched_count:,}건 ({matched_count/total_count*100:.1f}%)\")\n",
    "    print(f\"  - 매핑 실패: {unmatched_count:,}건 ({unmatched_count/total_count*100:.1f}%)\")\n",
    "    \n",
    "    # 매핑되지 않은 상품코드 확인\n",
    "    if unmatched_count > 0:\n",
    "        unmatched_products = merged_df[merged_df['요금제코드'].isna()]['MVNO상품코드'].unique()\n",
    "        print(f\"\\n⚠️ 매핑되지 않은 상품코드 ({len(unmatched_products)}개):\")\n",
    "        for i, product in enumerate(unmatched_products[:10]):  # 상위 10개만 표시\n",
    "            print(f\"  {i+1}. {product}\")\n",
    "        if len(unmatched_products) > 10:\n",
    "            print(f\"  ... 외 {len(unmatched_products) - 10}개\")\n",
    "    \n",
    "    # 병합된 데이터를 CSV 파일로 저장\n",
    "    print(f\"\\n💾 ENTR_BY_INS_MERGE.csv 저장 중...\")\n",
    "    try:\n",
    "        merged_df.to_csv('ENTR_BY_INS_MERGE.csv', index=False, encoding='utf-8')\n",
    "        print(\"✅ ENTR_BY_INS_MERGE.csv 저장 완료\")\n",
    "        \n",
    "        # 저장된 파일 정보\n",
    "        import os\n",
    "        file_size = os.path.getsize('ENTR_BY_INS_MERGE.csv') / (1024 * 1024)  # MB\n",
    "        print(f\"📁 파일 정보:\")\n",
    "        print(f\"  - 파일명: ENTR_BY_INS_MERGE.csv\")\n",
    "        print(f\"  - 크기: {file_size:.2f} MB\")\n",
    "        print(f\"  - 행 수: {merged_df.shape[0]:,}\")\n",
    "        print(f\"  - 열 수: {merged_df.shape[1]}\")\n",
    "        \n",
    "        # 추가된 컬럼 정보\n",
    "        added_columns = ['요금제코드', '요금제명', '기본료', '평생할인', '기간할인', '이벤트가', '정책금', '정책반영시작일', '정책반영종료일']\n",
    "        print(f\"\\n📋 추가된 컬럼 ({len(added_columns)}개):\")\n",
    "        for col in added_columns:\n",
    "            if col in merged_df.columns:\n",
    "                print(f\"  - {col}\")\n",
    "        \n",
    "    except Exception as e:\n",
    "        print(f\"❌ 파일 저장 중 오류: {e}\")\n",
    "        \n",
    "else:\n",
    "    print(\"❌ 매핑할 수 있는 컬럼을 찾을 수 없습니다.\")\n",
    "    print(f\"ENTR_BY_INS 컬럼: {[col for col in df_entr.columns if '상품' in col or '코드' in col]}\")\n",
    "    print(f\"MVNO_PRD_PLC 컬럼: {[col for col in df_plan.columns if '상품' in col or '코드' in col or '요금제' in col]}\")\n"
   ]
  },
  {
   "cell_type": "code",
   "execution_count": 33,
   "metadata": {},
   "outputs": [
    {
     "name": "stdout",
     "output_type": "stream",
     "text": [
      "\n",
      "📊 병합된 데이터 샘플 확인\n",
      "==================================================\n",
      "🔍 병합된 데이터 샘플 (상위 5개):\n",
      "--------------------------------------------------------------------------------\n",
      "  MVNO상품코드            MVNO상품명      요금제코드               요금제명         가입번호   고객명  수납금액  기본료  평생할인  기간할인\n",
      "LPZ0002633 [INS]인스 선불정액 300MB LPZ0002633 [INS]인스 선불정액 300MB 500224238285 S*N*S   0.0    0     0     0\n",
      "LPZ0002633 [INS]인스 선불정액 300MB LPZ0002633 [INS]인스 선불정액 300MB 500224410560  S*N*   0.0    0     0     0\n",
      "LPZ0002633 [INS]인스 선불정액 300MB LPZ0002633 [INS]인스 선불정액 300MB 500224446685 H*E*G   0.0    0     0     0\n",
      "LPZ0002633 [INS]인스 선불정액 300MB LPZ0002633 [INS]인스 선불정액 300MB 500224853447   장*덕   0.0    0     0     0\n",
      "LPZ0002633 [INS]인스 선불정액 300MB LPZ0002633 [INS]인스 선불정액 300MB 500224979670 C*H*Y   0.0    0     0     0\n",
      "\n",
      "📈 병합된 데이터 통계:\n",
      "  - 총 행 수: 270,192\n",
      "  - 총 열 수: 120\n",
      "  - 메모리 사용량: 544.58 MB\n",
      "\n",
      "📋 매핑된 요금제별 통계:\n",
      "상위 10개 요금제:\n",
      "                                   가입자수      수납금액_합계   수납금액_평균\n",
      "요금제명                                                          \n",
      "[INS]인스 LTE선불표준                   78510          0.0      0.00\n",
      "번호이동 정산상품                         54967          0.0      0.00\n",
      "[INS]인스 선불정액 300MB                15876          0.0      0.00\n",
      "[INS][24개월] 인스 유심 스트롱 11GB+       14594  347694818.5  23824.50\n",
      "[INS][평생할인]데이터 안심 10GB+(USIM)     11539   99692308.2   8639.60\n",
      "[INS] 인스 유심 스트롱 15GB+              8118  173360628.8  21355.09\n",
      "[INS]인스 유심 스트롱 11G+                7967  240823375.0  30227.61\n",
      "[INS]인스 유심 올프리(7GB+)               7957  118736531.6  14922.27\n",
      "[INS][모요] 인스 유심 스트롱 11GB+          6372  153248044.0  24050.23\n",
      "[INS]선불정액383(10.3GB+3Mbps)_인스코리아   5464          0.0      0.00\n",
      "\n",
      "✅ ENTR_BY_INS_MERGE.csv 파일이 성공적으로 생성되었습니다!\n"
     ]
    }
   ],
   "source": [
    "# 병합된 데이터 샘플 확인\n",
    "print(\"\\n📊 병합된 데이터 샘플 확인\")\n",
    "print(\"=\" * 50)\n",
    "\n",
    "if 'merged_df' in locals():\n",
    "    print(\"🔍 병합된 데이터 샘플 (상위 5개):\")\n",
    "    print(\"-\" * 80)\n",
    "    \n",
    "    # 주요 컬럼만 선택하여 표시\n",
    "    display_columns = [\n",
    "        'MVNO상품코드', 'MVNO상품명', '요금제코드', '요금제명', \n",
    "        '가입번호', '고객명', '수납금액', '기본료', '평생할인', '기간할인'\n",
    "    ]\n",
    "    \n",
    "    # 존재하는 컬럼만 선택\n",
    "    available_columns = [col for col in display_columns if col in merged_df.columns]\n",
    "    sample_data = merged_df[available_columns].head(5)\n",
    "    \n",
    "    print(sample_data.to_string(index=False))\n",
    "    \n",
    "    print(f\"\\n📈 병합된 데이터 통계:\")\n",
    "    print(f\"  - 총 행 수: {merged_df.shape[0]:,}\")\n",
    "    print(f\"  - 총 열 수: {merged_df.shape[1]}\")\n",
    "    print(f\"  - 메모리 사용량: {merged_df.memory_usage(deep=True).sum() / 1024**2:.2f} MB\")\n",
    "    \n",
    "    # 매핑된 요금제별 통계\n",
    "    if '요금제명' in merged_df.columns:\n",
    "        print(f\"\\n📋 매핑된 요금제별 통계:\")\n",
    "        plan_stats = merged_df.groupby('요금제명').agg({\n",
    "            '가입번호': 'count',\n",
    "            '수납금액': ['sum', 'mean']\n",
    "        }).round(2)\n",
    "        \n",
    "        plan_stats.columns = ['가입자수', '수납금액_합계', '수납금액_평균']\n",
    "        plan_stats = plan_stats.sort_values('가입자수', ascending=False)\n",
    "        \n",
    "        print(\"상위 10개 요금제:\")\n",
    "        print(plan_stats.head(10).to_string())\n",
    "    \n",
    "    print(f\"\\n✅ ENTR_BY_INS_MERGE.csv 파일이 성공적으로 생성되었습니다!\")\n",
    "    \n",
    "else:\n",
    "    print(\"❌ 병합된 데이터가 없습니다. 이전 셀을 먼저 실행하세요.\")\n"
   ]
  },
  {
   "cell_type": "markdown",
   "metadata": {},
   "source": [
    "## 📊 분석 결과 요약\n",
    "\n",
    "이 노트북은 다음과 같은 분석을 수행합니다:\n",
    "\n",
    "1. **데이터 로드**: ENTR_BY_INS.csv, ENTR_INT_INS.csv, MVNO_PRD_PLC.csv 파일 로드\n",
    "2. **상품코드별 통계**: 가입자 수, 수납금액, 도매대가, 기본료 등 다양한 지표 계산\n",
    "3. **요금제 정보 병합**: 상품코드와 요금제 정보 연결\n",
    "4. **데이터 매핑**: ENTR_BY_INS.csv와 MVNO_PRD_PLC.csv를 매핑하여 새로운 CSV 생성\n",
    "5. **동일 고객 분석**: ENTR_BY_INS.csv와 ENTR_INT_INS.csv 간 공통 고객 확인 및 분석\n",
    "6. **시각화**: matplotlib과 plotly를 활용한 다양한 차트 생성\n",
    "7. **결과 저장**: 분석 결과를 CSV 파일로 저장\n",
    "\n",
    "### 주요 출력 파일:\n",
    "- `product_statistics.csv`: 기본 상품코드별 통계\n",
    "- `detailed_product_statistics.csv`: 상세 통계 (비율 포함)\n",
    "- `merged_product_statistics.csv`: 요금제 정보 병합 결과\n",
    "- `ENTR_BY_INS_MERGE.csv`: ENTR_BY_INS + MVNO_PRD_PLC 병합 데이터\n",
    "- `common_customers_entr_by.csv`: 공통 고객 (ENTR_BY_INS)\n",
    "- `common_customers_entr_int.csv`: 공통 고객 (ENTR_INT_INS)\n",
    "- `common_customers_summary.csv`: 공통 고객 요약 정보\n",
    "\n",
    "### 🔗 데이터 매핑 정보:\n",
    "- **매핑 키**: MVNO상품코드 ↔ 요금제코드\n",
    "- **추가된 컬럼**: 요금제명, 기본료, 평생할인, 기간할인, 이벤트가, 정책금, 정책반영시작일, 정책반영종료일\n",
    "- **매핑 방식**: LEFT JOIN (모든 ENTR_BY_INS 데이터 유지)\n",
    "\n",
    "### 👥 동일 고객 분석 정보:\n",
    "- **고객 식별**: 가입번호, 고객번호, 고객명 기준 매칭\n",
    "- **매칭률**: 양쪽 데이터셋 기준 매칭률 계산\n",
    "- **요금제 비교**: 공통 고객의 요금제 정보 일치 여부 확인\n",
    "- **시계열 분석**: 공통 고객의 가입 시기 및 수납금액 분석\n"
   ]
  },
  {
   "cell_type": "code",
   "execution_count": null,
   "metadata": {},
   "outputs": [],
   "source": [
    "# ENTR_BY_INS.csv와 ENTR_INT_INS.csv 동일 고객 확인\n",
    "print(\"\\n🔍 동일 고객 확인 분석\")\n",
    "print(\"=\" * 60)\n",
    "\n",
    "# ENTR_INT_INS.csv 로드 (M-1 신규 가입자 정보)\n",
    "try:\n",
    "    df_entr_int = pd.read_csv('csv/ENTR_INT_INS.csv', encoding='utf-8')\n",
    "    print(f\"✅ ENTR_INT_INS.csv 로드 완료: {df_entr_int.shape[0]:,}행 × {df_entr_int.shape[1]}열\")\n",
    "except Exception as e:\n",
    "    print(f\"❌ ENTR_INT_INS.csv 로드 실패: {e}\")\n",
    "    df_entr_int = None\n",
    "\n",
    "if df_entr_int is not None and 'MVNO상품코드' in df_entr.columns:\n",
    "    print(f\"\\n📊 데이터 기본 정보:\")\n",
    "    print(f\"  - ENTR_BY_INS.csv (M-2 정산내역): {df_entr.shape[0]:,}행\")\n",
    "    print(f\"  - ENTR_INT_INS.csv (M-1 신규 가입자): {df_entr_int.shape[0]:,}행\")\n",
    "    \n",
    "    # 공통 컬럼 확인\n",
    "    common_columns = set(df_entr.columns) & set(df_entr_int.columns)\n",
    "    print(f\"\\n📋 공통 컬럼 ({len(common_columns)}개):\")\n",
    "    for col in sorted(common_columns):\n",
    "        print(f\"  - {col}\")\n",
    "    \n",
    "    # 고객 식별 가능한 컬럼들 확인\n",
    "    customer_id_columns = ['가입번호', '고객번호', '청구계정번호', '고객명']\n",
    "    available_customer_columns = [col for col in customer_id_columns if col in common_columns]\n",
    "    \n",
    "    print(f\"\\n🔑 고객 식별 가능한 컬럼:\")\n",
    "    for col in available_customer_columns:\n",
    "        print(f\"  - {col}\")\n",
    "    \n",
    "    if available_customer_columns:\n",
    "        # 가입번호로 고객 매칭 확인\n",
    "        if '가입번호' in available_customer_columns:\n",
    "            print(f\"\\n🎯 가입번호 기준 고객 매칭 분석:\")\n",
    "            \n",
    "            # 각 데이터셋의 고유 가입번호\n",
    "            entr_by_numbers = set(df_entr['가입번호'].dropna())\n",
    "            entr_int_numbers = set(df_entr_int['가입번호'].dropna())\n",
    "            \n",
    "            # 교집합 (양쪽 모두에 있는 가입번호)\n",
    "            common_numbers = entr_by_numbers & entr_int_numbers\n",
    "            \n",
    "            print(f\"  - ENTR_BY_INS 고유 가입번호: {len(entr_by_numbers):,}개\")\n",
    "            print(f\"  - ENTR_INT_INS 고유 가입번호: {len(entr_int_numbers):,}개\")\n",
    "            print(f\"  - 공통 가입번호: {len(common_numbers):,}개\")\n",
    "            \n",
    "            if len(common_numbers) > 0:\n",
    "                print(f\"  - 매칭률: {len(common_numbers)/len(entr_by_numbers)*100:.2f}% (ENTR_BY_INS 기준)\")\n",
    "                print(f\"  - 매칭률: {len(common_numbers)/len(entr_int_numbers)*100:.2f}% (ENTR_INT_INS 기준)\")\n",
    "                \n",
    "                # 공통 가입번호 샘플 확인\n",
    "                print(f\"\\n📋 공통 가입번호 샘플 (상위 10개):\")\n",
    "                sample_numbers = list(common_numbers)[:10]\n",
    "                for i, num in enumerate(sample_numbers, 1):\n",
    "                    print(f\"  {i:2d}. {num}\")\n",
    "                \n",
    "                # 상세 매칭 정보\n",
    "                print(f\"\\n📊 상세 매칭 정보:\")\n",
    "                \n",
    "                # ENTR_BY_INS에서 공통 가입번호의 데이터\n",
    "                entr_by_common = df_entr[df_entr['가입번호'].isin(common_numbers)]\n",
    "                print(f\"  - ENTR_BY_INS에서 공통 가입번호 데이터: {len(entr_by_common):,}건\")\n",
    "                \n",
    "                # ENTR_INT_INS에서 공통 가입번호의 데이터\n",
    "                entr_int_common = df_entr_int[df_entr_int['가입번호'].isin(common_numbers)]\n",
    "                print(f\"  - ENTR_INT_INS에서 공통 가입번호 데이터: {len(entr_int_common):,}건\")\n",
    "                \n",
    "                # 고객명이 있는 경우 추가 확인\n",
    "                if '고객명' in available_customer_columns:\n",
    "                    print(f\"\\n👤 고객명 기준 추가 확인:\")\n",
    "                    \n",
    "                    # 공통 가입번호의 고객명 매칭 확인\n",
    "                    entr_by_names = entr_by_common[['가입번호', '고객명']].drop_duplicates()\n",
    "                    entr_int_names = entr_int_common[['가입번호', '고객명']].drop_duplicates()\n",
    "                    \n",
    "                    # 가입번호와 고객명이 모두 일치하는 경우\n",
    "                    merged_names = entr_by_names.merge(entr_int_names, on=['가입번호', '고객명'], how='inner')\n",
    "                    name_matched = len(merged_names)\n",
    "                    \n",
    "                    print(f\"  - 가입번호 + 고객명 모두 일치: {name_matched:,}건\")\n",
    "                    \n",
    "                    if name_matched > 0:\n",
    "                        print(f\"  - 고객명 일치율: {name_matched/len(common_numbers)*100:.2f}%\")\n",
    "                        \n",
    "                        # 일치하는 고객 샘플\n",
    "                        print(f\"\\n📋 일치하는 고객 샘플 (상위 5개):\")\n",
    "                        sample_customers = merged_names.head(5)\n",
    "                        for _, row in sample_customers.iterrows():\n",
    "                            print(f\"  - 가입번호: {row['가입번호']}, 고객명: {row['고객명']}\")\n",
    "                \n",
    "                # 고객번호가 있는 경우 추가 확인\n",
    "                if '고객번호' in available_customer_columns:\n",
    "                    print(f\"\\n🔢 고객번호 기준 추가 확인:\")\n",
    "                    \n",
    "                    # 공통 가입번호의 고객번호 매칭 확인\n",
    "                    entr_by_customer_nums = entr_by_common[['가입번호', '고객번호']].drop_duplicates()\n",
    "                    entr_int_customer_nums = entr_int_common[['가입번호', '고객번호']].drop_duplicates()\n",
    "                    \n",
    "                    # 가입번호와 고객번호가 모두 일치하는 경우\n",
    "                    merged_customer_nums = entr_by_customer_nums.merge(entr_int_customer_nums, on=['가입번호', '고객번호'], how='inner')\n",
    "                    customer_num_matched = len(merged_customer_nums)\n",
    "                    \n",
    "                    print(f\"  - 가입번호 + 고객번호 모두 일치: {customer_num_matched:,}건\")\n",
    "                    \n",
    "                    if customer_num_matched > 0:\n",
    "                        print(f\"  - 고객번호 일치율: {customer_num_matched/len(common_numbers)*100:.2f}%\")\n",
    "            else:\n",
    "                print(\"  - 공통 가입번호가 없습니다.\")\n",
    "        else:\n",
    "            print(\"❌ 가입번호 컬럼을 찾을 수 없습니다.\")\n",
    "    else:\n",
    "        print(\"❌ 고객 식별 가능한 컬럼이 없습니다.\")\n",
    "        \n",
    "else:\n",
    "    print(\"❌ 필요한 데이터를 로드할 수 없습니다.\")\n"
   ]
  },
  {
   "cell_type": "code",
   "execution_count": null,
   "metadata": {},
   "outputs": [],
   "source": [
    "# 동일 고객 상세 분석 및 시각화\n",
    "print(\"\\n📊 동일 고객 상세 분석\")\n",
    "print(\"=\" * 60)\n",
    "\n",
    "if 'common_numbers' in locals() and len(common_numbers) > 0:\n",
    "    print(f\"🔍 공통 고객 상세 분석:\")\n",
    "    \n",
    "    # 공통 고객의 요금제 정보 비교\n",
    "    if 'MVNO상품코드' in df_entr.columns and '개통요금제코드' in df_entr_int.columns:\n",
    "        print(f\"\\n📋 요금제 정보 비교:\")\n",
    "        \n",
    "        # ENTR_BY_INS에서 공통 고객의 요금제 정보\n",
    "        entr_by_products = entr_by_common[['가입번호', 'MVNO상품코드', 'MVNO상품명']].drop_duplicates()\n",
    "        \n",
    "        # ENTR_INT_INS에서 공통 고객의 요금제 정보\n",
    "        entr_int_products = entr_int_common[['가입번호', '개통요금제코드', '개통요금제명']].drop_duplicates()\n",
    "        \n",
    "        print(f\"  - ENTR_BY_INS 요금제 정보: {len(entr_by_products):,}건\")\n",
    "        print(f\"  - ENTR_INT_INS 요금제 정보: {len(entr_int_products):,}건\")\n",
    "        \n",
    "        # 요금제 코드가 일치하는 경우\n",
    "        if 'MVNO상품코드' in entr_by_products.columns and '개통요금제코드' in entr_int_products.columns:\n",
    "            # 컬럼명 통일\n",
    "            entr_by_products_renamed = entr_by_products.rename(columns={'MVNO상품코드': '요금제코드', 'MVNO상품명': '요금제명'})\n",
    "            entr_int_products_renamed = entr_int_products.rename(columns={'개통요금제코드': '요금제코드', '개통요금제명': '요금제명'})\n",
    "            \n",
    "            # 요금제 코드가 일치하는 고객\n",
    "            product_matched = entr_by_products_renamed.merge(\n",
    "                entr_int_products_renamed, \n",
    "                on=['가입번호', '요금제코드'], \n",
    "                how='inner'\n",
    "            )\n",
    "            \n",
    "            print(f\"  - 요금제 코드 일치: {len(product_matched):,}건\")\n",
    "            if len(product_matched) > 0:\n",
    "                print(f\"  - 요금제 일치율: {len(product_matched)/len(common_numbers)*100:.2f}%\")\n",
    "                \n",
    "                # 일치하는 요금제 샘플\n",
    "                print(f\"\\n📋 일치하는 요금제 샘플 (상위 5개):\")\n",
    "                sample_products = product_matched.head(5)\n",
    "                for _, row in sample_products.iterrows():\n",
    "                    print(f\"  - 가입번호: {row['가입번호']}, 요금제: {row['요금제명_x']}\")\n",
    "    \n",
    "    # 공통 고객의 시간대별 분석\n",
    "    if '처리일자' in df_entr_int.columns:\n",
    "        print(f\"\\n📅 가입 시기 분석:\")\n",
    "        \n",
    "        # ENTR_INT_INS의 가입일자 분석\n",
    "        entr_int_common['처리일자_parsed'] = pd.to_datetime(entr_int_common['처리일자'], errors='coerce')\n",
    "        monthly_int = entr_int_common.groupby(entr_int_common['처리일자_parsed'].dt.to_period('M')).size()\n",
    "        \n",
    "        print(f\"  - ENTR_INT_INS 월별 가입자 수 (공통 고객):\")\n",
    "        for period, count in monthly_int.head(10).items():\n",
    "            print(f\"    {period}: {count:,}명\")\n",
    "    \n",
    "    # 공통 고객의 수납금액 분석\n",
    "    if '수납금액' in df_entr.columns:\n",
    "        print(f\"\\n💰 공통 고객 수납금액 분석:\")\n",
    "        \n",
    "        entr_by_amounts = entr_by_common['수납금액'].describe()\n",
    "        print(f\"  - 수납금액 통계 (ENTR_BY_INS 기준):\")\n",
    "        print(f\"    평균: {entr_by_amounts['mean']:,.2f}원\")\n",
    "        print(f\"    중앙값: {entr_by_amounts['50%']:,.2f}원\")\n",
    "        print(f\"    최대값: {entr_by_amounts['max']:,.2f}원\")\n",
    "        print(f\"    최소값: {entr_by_amounts['min']:,.2f}원\")\n",
    "    \n",
    "    # 시각화\n",
    "    print(f\"\\n📊 시각화 생성:\")\n",
    "    \n",
    "    # 1. 공통 고객 수납금액 분포\n",
    "    if '수납금액' in df_entr.columns:\n",
    "        plt.figure(figsize=(15, 5))\n",
    "        \n",
    "        plt.subplot(1, 3, 1)\n",
    "        plt.hist(entr_by_common['수납금액'], bins=50, alpha=0.7, color='skyblue', edgecolor='black')\n",
    "        plt.title('공통 고객 수납금액 분포')\n",
    "        plt.xlabel('수납금액 (원)')\n",
    "        plt.ylabel('빈도')\n",
    "        plt.yscale('log')\n",
    "        \n",
    "        # 2. 월별 가입자 수 (공통 고객)\n",
    "        if '처리일자' in df_entr_int.columns:\n",
    "            plt.subplot(1, 3, 2)\n",
    "            monthly_int.plot(kind='bar', color='lightcoral', alpha=0.7)\n",
    "            plt.title('공통 고객 월별 가입자 수')\n",
    "            plt.xlabel('월')\n",
    "            plt.ylabel('가입자 수')\n",
    "            plt.xticks(rotation=45)\n",
    "        \n",
    "        # 3. 요금제별 공통 고객 수\n",
    "        if 'MVNO상품명' in df_entr.columns:\n",
    "            plt.subplot(1, 3, 3)\n",
    "            product_counts = entr_by_common['MVNO상품명'].value_counts().head(10)\n",
    "            product_counts.plot(kind='bar', color='lightgreen', alpha=0.7)\n",
    "            plt.title('공통 고객 상위 10개 요금제')\n",
    "            plt.xlabel('요금제명')\n",
    "            plt.ylabel('고객 수')\n",
    "            plt.xticks(rotation=45)\n",
    "        \n",
    "        plt.tight_layout()\n",
    "        plt.show()\n",
    "        \n",
    "        print(\"✅ 시각화 완료!\")\n",
    "    \n",
    "    # 공통 고객 데이터를 CSV로 저장\n",
    "    print(f\"\\n💾 공통 고객 데이터 저장:\")\n",
    "    \n",
    "    try:\n",
    "        # ENTR_BY_INS에서 공통 고객 데이터 저장\n",
    "        entr_by_common.to_csv('common_customers_entr_by.csv', index=False, encoding='utf-8')\n",
    "        print(\"✅ common_customers_entr_by.csv 저장 완료\")\n",
    "        \n",
    "        # ENTR_INT_INS에서 공통 고객 데이터 저장\n",
    "        entr_int_common.to_csv('common_customers_entr_int.csv', index=False, encoding='utf-8')\n",
    "        print(\"✅ common_customers_entr_int.csv 저장 완료\")\n",
    "        \n",
    "        # 공통 고객 요약 정보 저장\n",
    "        summary_data = {\n",
    "            '분석항목': [\n",
    "                'ENTR_BY_INS 총 고객 수',\n",
    "                'ENTR_INT_INS 총 고객 수', \n",
    "                '공통 고객 수',\n",
    "                'ENTR_BY_INS 기준 매칭률 (%)',\n",
    "                'ENTR_INT_INS 기준 매칭률 (%)'\n",
    "            ],\n",
    "            '값': [\n",
    "                len(entr_by_numbers),\n",
    "                len(entr_int_numbers),\n",
    "                len(common_numbers),\n",
    "                round(len(common_numbers)/len(entr_by_numbers)*100, 2),\n",
    "                round(len(common_numbers)/len(entr_int_numbers)*100, 2)\n",
    "            ]\n",
    "        }\n",
    "        \n",
    "        summary_df = pd.DataFrame(summary_data)\n",
    "        summary_df.to_csv('common_customers_summary.csv', index=False, encoding='utf-8')\n",
    "        print(\"✅ common_customers_summary.csv 저장 완료\")\n",
    "        \n",
    "    except Exception as e:\n",
    "        print(f\"❌ 파일 저장 중 오류: {e}\")\n",
    "        \n",
    "else:\n",
    "    print(\"❌ 공통 고객 데이터가 없습니다.\")\n"
   ]
  },
  {
   "cell_type": "code",
   "execution_count": null,
   "metadata": {},
   "outputs": [],
   "source": []
  },
  {
   "cell_type": "code",
   "execution_count": null,
   "metadata": {},
   "outputs": [],
   "source": []
  },
  {
   "cell_type": "code",
   "execution_count": null,
   "metadata": {},
   "outputs": [],
   "source": []
  },
  {
   "cell_type": "code",
   "execution_count": null,
   "metadata": {},
   "outputs": [],
   "source": []
  },
  {
   "cell_type": "code",
   "execution_count": null,
   "metadata": {},
   "outputs": [],
   "source": []
  }
 ],
 "metadata": {
  "kernelspec": {
   "display_name": "Python 3 (ipykernel)",
   "language": "python",
   "name": "python3"
  },
  "language_info": {
   "codemirror_mode": {
    "name": "ipython",
    "version": 3
   },
   "file_extension": ".py",
   "mimetype": "text/x-python",
   "name": "python",
   "nbconvert_exporter": "python",
   "pygments_lexer": "ipython3",
   "version": "3.13.5"
  }
 },
 "nbformat": 4,
 "nbformat_minor": 4
}

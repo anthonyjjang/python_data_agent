{
 "cells": [
  {
   "cell_type": "markdown",
   "metadata": {},
   "source": [
    "# CSV 데이터 분석 노트북\n",
    "\n",
    "통신사 가입자 정보 및 요금제 데이터 분석을 위한 Jupyter Notebook입니다.\n",
    "\n",
    "## 데이터 파일 정보\n",
    "- **ENTR_BY_INS.csv**: M-2 가입자 정보 (요금제)\n",
    "- **ENTR_INT_INS.csv**: M-1 신규 가입자 정보 (요금제)\n",
    "- **MVNO_PRD_PLC.csv**: 요금제 정보 (정책 관련 지원금 등)"
   ]
  },
  {
   "cell_type": "code",
   "execution_count": null,
   "metadata": {},
   "outputs": [],
   "source": [
    "# 필요한 라이브러리 import\n",
    "import pandas as pd\n",
    "import numpy as np\n",
    "import matplotlib.pyplot as plt\n",
    "import seaborn as sns\n",
    "import plotly.express as px\n",
    "import plotly.graph_objects as go\n",
    "from plotly.subplots import make_subplots\n",
    "import warnings\n",
    "warnings.filterwarnings('ignore')\n",
    "\n",
    "# 한글 폰트 설정 (matplotlib)\n",
    "plt.rcParams['font.family'] = 'AppleGothic'  # macOS\n",
    "plt.rcParams['axes.unicode_minus'] = False\n",
    "\n",
    "# 출력 설정\n",
    "pd.set_option('display.max_columns', None)\n",
    "pd.set_option('display.max_rows', 100)\n",
    "pd.set_option('display.width', None)\n",
    "\n",
    "print(\"📚 라이브러리 로드 완료!\")"
   ]
  },
  {
   "cell_type": "markdown",
   "metadata": {},
   "source": [
    "## 1. 데이터 로드"
   ]
  },
  {
   "cell_type": "code",
   "execution_count": null,
   "metadata": {},
   "outputs": [],
   "source": [
    "# CSV 파일들 로드\n",
    "def load_csv_with_encoding(file_path, encodings=['utf-8', 'cp949', 'euc-kr']):\n",
    "    \"\"\"다양한 인코딩으로 CSV 파일 로드 시도\"\"\"\n",
    "    for encoding in encodings:\n",
    "        try:\n",
    "            df = pd.read_csv(file_path, encoding=encoding)\n",
    "            print(f\"✅ {file_path} 로드 성공 (인코딩: {encoding})\")\n",
    "            return df, encoding\n",
    "        except UnicodeDecodeError:\n",
    "            continue\n",
    "    raise ValueError(f\"❌ {file_path} 로드 실패 - 지원되는 인코딩이 없습니다.\")\n",
    "\n",
    "# 데이터 로드\n",
    "try:\n",
    "    # M-2 가입자 정보\n",
    "    df_m2, encoding_m2 = load_csv_with_encoding('csv/ENTR_BY_INS.csv', ['cp949', 'utf-8', 'euc-kr'])\n",
    "    \n",
    "    # M-1 신규 가입자 정보  \n",
    "    df_m1, encoding_m1 = load_csv_with_encoding('csv/ENTR_INT_INS.csv', ['utf-8', 'cp949', 'euc-kr'])\n",
    "    \n",
    "    # 요금제 정보\n",
    "    df_plan, encoding_plan = load_csv_with_encoding('csv/MVNO_PRD_PLC.csv', ['utf-8', 'cp949', 'euc-kr'])\n",
    "    \n",
    "    print(\"\\n🎉 모든 데이터 로드 완료!\")\n",
    "    \n",
    "except Exception as e:\n",
    "    print(f\"❌ 데이터 로드 중 오류: {e}\")"
   ]
  },
  {
   "cell_type": "markdown",
   "metadata": {},
   "source": [
    "## 2. 데이터 기본 정보 확인"
   ]
  },
  {
   "cell_type": "code",
   "execution_count": 3,
   "metadata": {},
   "outputs": [
    {
     "ename": "NameError",
     "evalue": "name 'df_m2' is not defined",
     "output_type": "error",
     "traceback": [
      "\u001b[31m---------------------------------------------------------------------------\u001b[39m",
      "\u001b[31mNameError\u001b[39m                                 Traceback (most recent call last)",
      "\u001b[36mCell\u001b[39m\u001b[36m \u001b[39m\u001b[32mIn[3]\u001b[39m\u001b[32m, line 3\u001b[39m\n\u001b[32m      1\u001b[39m \u001b[38;5;66;03m# 데이터 기본 정보\u001b[39;00m\n\u001b[32m      2\u001b[39m datasets = {\n\u001b[32m----> \u001b[39m\u001b[32m3\u001b[39m     \u001b[33m'\u001b[39m\u001b[33mM-2 가입자 정보 (ENTR_BY_INS)\u001b[39m\u001b[33m'\u001b[39m: \u001b[43mdf_m2\u001b[49m,\n\u001b[32m      4\u001b[39m     \u001b[33m'\u001b[39m\u001b[33mM-1 신규 가입자 정보 (ENTR_INT_INS)\u001b[39m\u001b[33m'\u001b[39m: df_m1,\n\u001b[32m      5\u001b[39m     \u001b[33m'\u001b[39m\u001b[33m요금제 정보 (MVNO_PRD_PLC)\u001b[39m\u001b[33m'\u001b[39m: df_plan\n\u001b[32m      6\u001b[39m }\n\u001b[32m      8\u001b[39m \u001b[38;5;28;01mfor\u001b[39;00m name, df \u001b[38;5;129;01min\u001b[39;00m datasets.items():\n\u001b[32m      9\u001b[39m     \u001b[38;5;28mprint\u001b[39m(\u001b[33mf\u001b[39m\u001b[33m\"\u001b[39m\u001b[38;5;130;01m\\n\u001b[39;00m\u001b[38;5;132;01m{\u001b[39;00m\u001b[33m'\u001b[39m\u001b[33m=\u001b[39m\u001b[33m'\u001b[39m*\u001b[32m60\u001b[39m\u001b[38;5;132;01m}\u001b[39;00m\u001b[33m\"\u001b[39m)\n",
      "\u001b[31mNameError\u001b[39m: name 'df_m2' is not defined"
     ]
    }
   ],
   "source": [
    "# 데이터 기본 정보\n",
    "datasets = {\n",
    "    'M-2 가입자 정보 (ENTR_BY_INS)': df_m2,\n",
    "    'M-1 신규 가입자 정보 (ENTR_INT_INS)': df_m1,\n",
    "    '요금제 정보 (MVNO_PRD_PLC)': df_plan\n",
    "}\n",
    "\n",
    "for name, df in datasets.items():\n",
    "    print(f\"\\n{'='*60}\")\n",
    "    print(f\"📊 {name}\")\n",
    "    print(f\"{'='*60}\")\n",
    "    print(f\"📏 데이터 크기: {df.shape[0]:,}행 × {df.shape[1]}열\")\n",
    "    print(f\"💾 메모리 사용량: {df.memory_usage(deep=True).sum() / 1024**2:.2f} MB\")\n",
    "    print(f\"📋 컬럼 수: {len(df.columns)}개\")\n",
    "    \n",
    "    # 결측값 정보\n",
    "    missing_count = df.isnull().sum().sum()\n",
    "    if missing_count > 0:\n",
    "        print(f\"⚠️  총 결측값: {missing_count:,}개\")\n",
    "    else:\n",
    "        print(f\"✅ 결측값 없음\")"
   ]
  },
  {
   "cell_type": "markdown",
   "metadata": {},
   "source": [
    "## 3. M-2 가입자 정보 분석"
   ]
  },
  {
   "cell_type": "code",
   "execution_count": null,
   "metadata": {},
   "outputs": [],
   "source": [
    "# M-2 가입자 정보 컬럼 확인\n",
    "print(\"📋 M-2 가입자 정보 컬럼 목록:\")\n",
    "for i, col in enumerate(df_m2.columns, 1):\n",
    "    print(f\"{i:2d}. {col}\")"
   ]
  },
  {
   "cell_type": "code",
   "execution_count": null,
   "metadata": {},
   "outputs": [],
   "source": [
    "# M-2 가입자 정보 샘플 데이터\n",
    "print(\"📄 M-2 가입자 정보 샘플 (상위 5개):\")\n",
    "display(df_m2.head())"
   ]
  },
  {
   "cell_type": "code",
   "execution_count": null,
   "metadata": {},
   "outputs": [],
   "source": [
    "# M-2 가입자 정보 주요 통계\n",
    "if '수납금액' in df_m2.columns:\n",
    "    print(\"💰 수납금액 통계:\")\n",
    "    print(df_m2['수납금액'].describe())\n",
    "    \n",
    "    # 수납금액 분포 시각화\n",
    "    plt.figure(figsize=(12, 4))\n",
    "    \n",
    "    plt.subplot(1, 2, 1)\n",
    "    df_m2['수납금액'].hist(bins=50, alpha=0.7)\n",
    "    plt.title('수납금액 분포')\n",
    "    plt.xlabel('수납금액')\n",
    "    plt.ylabel('빈도')\n",
    "    \n",
    "    plt.subplot(1, 2, 2)\n",
    "    df_m2.boxplot(column='수납금액')\n",
    "    plt.title('수납금액 박스플롯')\n",
    "    \n",
    "    plt.tight_layout()\n",
    "    plt.show()"
   ]
  },
  {
   "cell_type": "markdown",
   "metadata": {},
   "source": [
    "## 4. M-1 신규 가입자 정보 분석"
   ]
  },
  {
   "cell_type": "code",
   "execution_count": null,
   "metadata": {},
   "outputs": [],
   "source": [
    "# M-1 신규 가입자 정보 컬럼 확인\n",
    "print(\"📋 M-1 신규 가입자 정보 컬럼 목록:\")\n",
    "for i, col in enumerate(df_m1.columns, 1):\n",
    "    print(f\"{i:2d}. {col}\")"
   ]
  },
  {
   "cell_type": "code",
   "execution_count": null,
   "metadata": {},
   "outputs": [],
   "source": [
    "# M-1 신규 가입자 정보 샘플 데이터\n",
    "print(\"📄 M-1 신규 가입자 정보 샘플 (상위 5개):\")\n",
    "display(df_m1.head())"
   ]
  },
  {
   "cell_type": "code",
   "execution_count": null,
   "metadata": {},
   "outputs": [],
   "source": [
    "# 개통유형별 분석\n",
    "if '개통유형' in df_m1.columns:\n",
    "    print(\"📊 개통유형별 분포:\")\n",
    "    activation_counts = df_m1['개통유형'].value_counts()\n",
    "    print(activation_counts)\n",
    "    \n",
    "    # 개통유형 파이차트\n",
    "    plt.figure(figsize=(8, 6))\n",
    "    plt.pie(activation_counts.values, labels=activation_counts.index, autopct='%1.1f%%')\n",
    "    plt.title('개통유형별 분포')\n",
    "    plt.show()"
   ]
  },
  {
   "cell_type": "markdown",
   "metadata": {},
   "source": [
    "## 5. 요금제 정보 분석"
   ]
  },
  {
   "cell_type": "code",
   "execution_count": null,
   "metadata": {},
   "outputs": [],
   "source": [
    "# 요금제 정보 전체 보기\n",
    "print(\"📋 요금제 정보:\")\n",
    "display(df_plan)"
   ]
  },
  {
   "cell_type": "code",
   "execution_count": null,
   "metadata": {},
   "outputs": [],
   "source": [
    "# 요금제별 기본료 분석\n",
    "if '기본료' in df_plan.columns:\n",
    "    print(\"💰 요금제별 기본료:\")\n",
    "    print(df_plan[['요금제명', '기본료']].to_string(index=False))\n",
    "    \n",
    "    # 기본료 시각화\n",
    "    if len(df_plan) > 1:\n",
    "        plt.figure(figsize=(10, 6))\n",
    "        plt.bar(range(len(df_plan)), df_plan['기본료'])\n",
    "        plt.xticks(range(len(df_plan)), df_plan['요금제명'], rotation=45, ha='right')\n",
    "        plt.title('요금제별 기본료')\n",
    "        plt.ylabel('기본료 (원)')\n",
    "        plt.tight_layout()\n",
    "        plt.show()"
   ]
  },
  {
   "cell_type": "markdown",
   "metadata": {},
   "source": [
    "## 6. 데이터 간 관계 분석"
   ]
  },
  {
   "cell_type": "code",
   "execution_count": null,
   "metadata": {},
   "outputs": [],
   "source": [
    "# M-2 데이터에서 요금제별 분석\n",
    "if 'MVNO상품명' in df_m2.columns:\n",
    "    print(\"📊 M-2 데이터 - 요금제별 가입자 수:\")\n",
    "    plan_counts = df_m2['MVNO상품명'].value_counts()\n",
    "    print(plan_counts)\n",
    "    \n",
    "    # 요금제별 가입자 수 시각화\n",
    "    plt.figure(figsize=(12, 6))\n",
    "    plan_counts.plot(kind='bar')\n",
    "    plt.title('요금제별 가입자 수 (M-2 데이터)')\n",
    "    plt.xlabel('요금제명')\n",
    "    plt.ylabel('가입자 수')\n",
    "    plt.xticks(rotation=45, ha='right')\n",
    "    plt.tight_layout()\n",
    "    plt.show()"
   ]
  },
  {
   "cell_type": "code",
   "execution_count": null,
   "metadata": {},
   "outputs": [],
   "source": [
    "# M-1 데이터에서 요금제별 분석\n",
    "if '현재요금제명' in df_m1.columns:\n",
    "    print(\"📊 M-1 데이터 - 요금제별 신규 가입자 수:\")\n",
    "    new_plan_counts = df_m1['현재요금제명'].value_counts()\n",
    "    print(new_plan_counts)\n",
    "    \n",
    "    # 요금제별 신규 가입자 수 시각화\n",
    "    plt.figure(figsize=(12, 6))\n",
    "    new_plan_counts.plot(kind='bar')\n",
    "    plt.title('요금제별 신규 가입자 수 (M-1 데이터)')\n",
    "    plt.xlabel('요금제명')\n",
    "    plt.ylabel('신규 가입자 수')\n",
    "    plt.xticks(rotation=45, ha='right')\n",
    "    plt.tight_layout()\n",
    "    plt.show()"
   ]
  },
  {
   "cell_type": "markdown",
   "metadata": {},
   "source": [
    "## 7. 인터랙티브 시각화 (Plotly)"
   ]
  },
  {
   "cell_type": "code",
   "execution_count": null,
   "metadata": {},
   "outputs": [],
   "source": [
    "# M-2 데이터 인터랙티브 시각화\n",
    "if 'MVNO상품명' in df_m2.columns and '수납금액' in df_m2.columns:\n",
    "    # 요금제별 수납금액 분포\n",
    "    fig = px.box(df_m2, x='MVNO상품명', y='수납금액', \n",
    "                 title='요금제별 수납금액 분포',\n",
    "                 labels={'MVNO상품명': '요금제명', '수납금액': '수납금액 (원)'})\n",
    "    fig.update_xaxes(tickangle=45)\n",
    "    fig.show()\n",
    "    \n",
    "    # 수납금액 히스토그램\n",
    "    fig = px.histogram(df_m2, x='수납금액', nbins=50,\n",
    "                       title='수납금액 분포 히스토그램',\n",
    "                       labels={'수납금액': '수납금액 (원)', 'count': '빈도'})\n",
    "    fig.show()"
   ]
  },
  {
   "cell_type": "markdown",
   "metadata": {},
   "source": [
    "## 8. 데이터 요약 및 인사이트"
   ]
  },
  {
   "cell_type": "code",
   "execution_count": null,
   "metadata": {},
   "outputs": [],
   "source": [
    "# 전체 데이터 요약\n",
    "print(\"📊 전체 데이터 요약\")\n",
    "print(\"=\" * 50)\n",
    "\n",
    "total_m2_users = len(df_m2)\n",
    "total_m1_users = len(df_m1)\n",
    "total_plans = len(df_plan)\n",
    "\n",
    "print(f\"📈 M-2 가입자 수: {total_m2_users:,}명\")\n",
    "print(f\"📈 M-1 신규 가입자 수: {total_m1_users:,}명\")\n",
    "print(f\"📋 총 요금제 수: {total_plans}개\")\n",
    "\n",
    "if '수납금액' in df_m2.columns:\n",
    "    total_revenue = df_m2['수납금액'].sum()\n",
    "    avg_revenue = df_m2['수납금액'].mean()\n",
    "    print(f\"💰 총 수납금액: {total_revenue:,.0f}원\")\n",
    "    print(f\"💰 평균 수납금액: {avg_revenue:,.0f}원\")\n",
    "\n",
    "print(\"\\n🎯 주요 인사이트:\")\n",
    "print(\"- 데이터 분석을 통해 요금제별 가입자 현황 파악 가능\")\n",
    "print(\"- 신규 가입자와 기존 가입자 패턴 비교 분석 가능\")\n",
    "print(\"- 수익성 분석 및 요금제 최적화 방향 도출 가능\")"
   ]
  }
 ],
 "metadata": {
  "kernelspec": {
   "display_name": "Python 3 (ipykernel)",
   "language": "python",
   "name": "python3"
  },
  "language_info": {
   "codemirror_mode": {
    "name": "ipython",
    "version": 3
   },
   "file_extension": ".py",
   "mimetype": "text/x-python",
   "name": "python",
   "nbconvert_exporter": "python",
   "pygments_lexer": "ipython3",
   "version": "3.13.5"
  }
 },
 "nbformat": 4,
 "nbformat_minor": 4
}
